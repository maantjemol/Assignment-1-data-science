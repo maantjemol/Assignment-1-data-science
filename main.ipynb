{
 "cells": [
  {
   "cell_type": "code",
   "execution_count": 21,
   "metadata": {},
   "outputs": [],
   "source": [
    "import pandas as pd\n",
    "import chardet\n",
    "from bokeh.layouts import row, column\n",
    "from bokeh.plotting import figure, show\n",
    "from bokeh.io import output_notebook\n"
   ]
  },
  {
   "cell_type": "code",
   "execution_count": 2,
   "metadata": {},
   "outputs": [],
   "source": [
    "def detect_encoding(file_path: str) -> str:\n",
    "    with open(file_path, 'rb') as file:\n",
    "        detector = chardet.universaldetector.UniversalDetector()\n",
    "        for line in file:\n",
    "            detector.feed(line)\n",
    "            if detector.done:\n",
    "                break\n",
    "        detector.close()\n",
    "    return detector.result['encoding']"
   ]
  },
  {
   "cell_type": "code",
   "execution_count": 3,
   "metadata": {},
   "outputs": [],
   "source": [
    "product_id = \"com.vansteinengroentjes.apps.ddfive\""
   ]
  },
  {
   "cell_type": "code",
   "execution_count": 4,
   "metadata": {},
   "outputs": [
    {
     "name": "stdout",
     "output_type": "stream",
     "text": [
      "78\n",
      "3487\n",
      "214\n",
      "214\n",
      "18617\n"
     ]
    }
   ],
   "source": [
    "import glob\n",
    "data_path = 'data/'\n",
    "csv_files = glob.glob(data_path + '*.csv')\n",
    "\n",
    "# Initialize an empty list to store dataframes\n",
    "dataframes = []\n",
    "\n",
    "reviews_df = pd.DataFrame()\n",
    "sales_df = pd.DataFrame()\n",
    "crashes_df = pd.DataFrame()\n",
    "ratings_overview_df = pd.DataFrame()\n",
    "ratings_country_df = pd.DataFrame()\n",
    "\n",
    "# encodings = ['utf-8', 'utf-16 LE']\n",
    "\n",
    "# Loop through the CSV files and read them into dataframes\n",
    "for file in csv_files:\n",
    "    # print(file)\n",
    "    encoding = detect_encoding(file) \n",
    "    # for encoding in encodings:\n",
    "    try:\n",
    "        df = pd.read_csv(file, encoding=encoding)\n",
    "        if \"reviews\" in file:\n",
    "            # print(file + \" \" + encoding + \" \" + str(df.shape))\n",
    "            reviews_df = pd.concat([reviews_df, df], ignore_index=True)\n",
    "        elif \"sales\" in file:\n",
    "            # print(file + \" \" + encoding + \" \" + str(df.shape))\n",
    "            sales_df = pd.concat([sales_df, df], ignore_index=True)\n",
    "        elif \"crashes\" in file:\n",
    "            # print(file + \" \" + encoding + \" \" + str(df.shape))\n",
    "            crashes_df = pd.concat([crashes_df, df], ignore_index=True)\n",
    "        elif \"ratings\" in file:\n",
    "            if \"overview\" in file:\n",
    "                # print(file + \" \" + encoding + \" \" + str(df.shape))\n",
    "                ratings_overview_df = pd.concat([ratings_overview_df, df], ignore_index=True)\n",
    "            elif \"country\" in file:\n",
    "                # print(file + \" \" + encoding + \" \" + str(df.shape))\n",
    "                ratings_country_df = pd.concat([ratings_country_df, df], ignore_index=True)\n",
    "    except UnicodeDecodeError:\n",
    "        pass\n",
    "    \n",
    "\n",
    "print(len(reviews_df))\n",
    "print(len(sales_df))\n",
    "print(len(crashes_df))\n",
    "print(len(ratings_overview_df))\n",
    "print(len(ratings_country_df))\n",
    "\n"
   ]
  },
  {
   "cell_type": "markdown",
   "metadata": {},
   "source": [
    "# Sales data"
   ]
  },
  {
   "cell_type": "code",
   "execution_count": 5,
   "metadata": {},
   "outputs": [
    {
     "name": "stdout",
     "output_type": "stream",
     "text": [
      "                Description            datetime  \\\n",
      "0  GPA.3370-7096-7934-01916 2021-06-01 17:38:09   \n",
      "1  GPA.3301-2849-0660-49349 2021-06-01 22:46:39   \n",
      "2  GPA.3372-1497-1097-13226 2021-06-02 07:51:43   \n",
      "3  GPA.3397-6490-8608-67650 2021-06-02 09:14:16   \n",
      "4  GPA.3378-4840-7906-77859 2021-06-02 10:32:52   \n",
      "\n",
      "                                      Product Title  \\\n",
      "0  Character Manager (Complete Reference for DnD 5)   \n",
      "1           DM Tools (Complete Reference for DnD 5)   \n",
      "2  Character Manager (Complete Reference for DnD 5)   \n",
      "3  Character Manager (Complete Reference for DnD 5)   \n",
      "4           DM Tools (Complete Reference for DnD 5)   \n",
      "\n",
      "                            Product id                  Sku Id Buyer Country  \\\n",
      "0  com.vansteinengroentjes.apps.ddfive  unlockcharactermanager            US   \n",
      "1  com.vansteinengroentjes.apps.ddfive                 premium            US   \n",
      "2  com.vansteinengroentjes.apps.ddfive  unlockcharactermanager            US   \n",
      "3  com.vansteinengroentjes.apps.ddfive  unlockcharactermanager            US   \n",
      "4  com.vansteinengroentjes.apps.ddfive                 premium            US   \n",
      "\n",
      "  Buyer Currency  Amount (Buyer Currency) Merchant Currency  \\\n",
      "0            USD                     3.84               EUR   \n",
      "1            USD                     2.44               EUR   \n",
      "2            USD                     3.84               EUR   \n",
      "3            USD                     3.84               EUR   \n",
      "4            USD                     2.44               EUR   \n",
      "\n",
      "   Amount (Merchant Currency)  \n",
      "0                        3.14  \n",
      "1                        2.00  \n",
      "2                        3.16  \n",
      "3                        3.15  \n",
      "4                        2.00  \n"
     ]
    },
    {
     "name": "stderr",
     "output_type": "stream",
     "text": [
      "/var/folders/bl/0xp3c78j1gs_14t9fbtq2g3m0000gn/T/ipykernel_69003/1138008851.py:53: DeprecationWarning: DataFrameGroupBy.apply operated on the grouping columns. This behavior is deprecated, and in a future version of pandas the grouping columns will be excluded from the operation. Either pass `include_groups=False` to exclude the groupings or explicitly select the grouping columns after groupby to silence this warning.\n",
      "  .apply(combine_transactions)\n"
     ]
    }
   ],
   "source": [
    "# Clean sales data\n",
    "df = sales_df[sales_df['Product id'] == product_id].copy()\n",
    "# df[\"Transaction Date\"] = pd.to_datetime(df[\"Transaction Date\"])\n",
    "# df[\"Amount (Merchant Currency) Google tax\"] = df[\"Amount (Merchant Currency)\"]\n",
    "\n",
    "def clean_sales_data(df: pd.DataFrame) -> pd.DataFrame:\n",
    "    \"\"\"\n",
    "    Clean and process sales data by combining charge and fee rows.\n",
    "    \n",
    "    Args:\n",
    "        df (pd.DataFrame): Input DataFrame with sales data\n",
    "        \n",
    "    Returns:\n",
    "        pd.DataFrame: Cleaned DataFrame with combined transactions\n",
    "    \"\"\"\n",
    "    # Create a copy of the input DataFrame to avoid the SettingWithCopyWarning\n",
    "    df = df.copy()\n",
    "    \n",
    "    # Convert date and time to datetime, properly handling PDT timezone\n",
    "    df['datetime'] = pd.to_datetime(\n",
    "        df['Transaction Date'] + ' ' + df['Transaction Time'].str.replace(' PDT', '')\n",
    "    )\n",
    "    \n",
    "    def combine_transactions(group):\n",
    "        \"\"\"Combine charge and fee rows into a single transaction\"\"\"\n",
    "        if len(group) == 2 and set(group['Transaction Type']) == {'Charge', 'Google fee'}:\n",
    "            charge_row = group[group['Transaction Type'] == 'Charge'].iloc[0]\n",
    "            fee_row = group[group['Transaction Type'] == 'Google fee'].iloc[0]\n",
    "            \n",
    "            # Calculate net amounts\n",
    "            net_buyer_amount = charge_row['Amount (Buyer Currency)'] + fee_row['Amount (Buyer Currency)']\n",
    "            net_merchant_amount = charge_row['Amount (Merchant Currency)'] + fee_row['Amount (Merchant Currency)']\n",
    "            \n",
    "            # Create result row\n",
    "            result = charge_row.copy()\n",
    "            result['Amount (Buyer Currency)'] = net_buyer_amount\n",
    "            result['Amount (Merchant Currency)'] = net_merchant_amount\n",
    "            result['Transaction Type'] = 'Net Charge'\n",
    "            return result\n",
    "        \n",
    "        return group.iloc[0]\n",
    "\n",
    "    # Columns to keep in the final output\n",
    "    columns_to_keep = [\n",
    "        'Description', 'datetime', 'Product Title', \n",
    "        'Product id', 'Sku Id', 'Buyer Country',\n",
    "        'Buyer Currency', 'Amount (Buyer Currency)',\n",
    "        'Merchant Currency', 'Amount (Merchant Currency)'\n",
    "    ]\n",
    "    \n",
    "    # Group and combine transactions\n",
    "    result_df = (df.groupby('Description', as_index=False)\n",
    "                  .apply(combine_transactions)\n",
    "                  [columns_to_keep]\n",
    "                  .sort_values('datetime')\n",
    "                  .reset_index(drop=True))\n",
    "    \n",
    "    return result_df\n",
    "\n",
    "# Example usage\n",
    "cleaned_df = clean_sales_data(df)\n",
    "print(cleaned_df.head())"
   ]
  },
  {
   "cell_type": "markdown",
   "metadata": {},
   "source": [
    "## Sales over time"
   ]
  },
  {
   "cell_type": "code",
   "execution_count": 22,
   "metadata": {},
   "outputs": [
    {
     "data": {
      "text/html": [
       "    <style>\n",
       "        .bk-notebook-logo {\n",
       "            display: block;\n",
       "            width: 20px;\n",
       "            height: 20px;\n",
       "            background-image: url(data:image/png;base64,iVBORw0KGgoAAAANSUhEUgAAABQAAAAUCAYAAACNiR0NAAAABHNCSVQICAgIfAhkiAAAAAlwSFlzAAALEgAACxIB0t1+/AAAABx0RVh0U29mdHdhcmUAQWRvYmUgRmlyZXdvcmtzIENTNui8sowAAAOkSURBVDiNjZRtaJVlGMd/1/08zzln5zjP1LWcU9N0NkN8m2CYjpgQYQXqSs0I84OLIC0hkEKoPtiH3gmKoiJDU7QpLgoLjLIQCpEsNJ1vqUOdO7ppbuec5+V+rj4ctwzd8IIbbi6u+8f1539dt3A78eXC7QizUF7gyV1fD1Yqg4JWz84yffhm0qkFqBogB9rM8tZdtwVsPUhWhGcFJngGeWrPzHm5oaMmkfEg1usvLFyc8jLRqDOMru7AyC8saQr7GG7f5fvDeH7Ej8CM66nIF+8yngt6HWaKh7k49Soy9nXurCi1o3qUbS3zWfrYeQDTB/Qj6kX6Ybhw4B+bOYoLKCC9H3Nu/leUTZ1JdRWkkn2ldcCamzrcf47KKXdAJllSlxAOkRgyHsGC/zRday5Qld9DyoM4/q/rUoy/CXh3jzOu3bHUVZeU+DEn8FInkPBFlu3+nW3Nw0mk6vCDiWg8CeJaxEwuHS3+z5RgY+YBR6V1Z1nxSOfoaPa4LASWxxdNp+VWTk7+4vzaou8v8PN+xo+KY2xsw6une2frhw05CTYOmQvsEhjhWjn0bmXPjpE1+kplmmkP3suftwTubK9Vq22qKmrBhpY4jvd5afdRA3wGjFAgcnTK2s4hY0/GPNIb0nErGMCRxWOOX64Z8RAC4oCXdklmEvcL8o0BfkNK4lUg9HTl+oPlQxdNo3Mg4Nv175e/1LDGzZen30MEjRUtmXSfiTVu1kK8W4txyV6BMKlbgk3lMwYCiusNy9fVfvvwMxv8Ynl6vxoByANLTWplvuj/nF9m2+PDtt1eiHPBr1oIfhCChQMBw6Aw0UulqTKZdfVvfG7VcfIqLG9bcldL/+pdWTLxLUy8Qq38heUIjh4XlzZxzQm19lLFlr8vdQ97rjZVOLf8nclzckbcD4wxXMidpX30sFd37Fv/GtwwhzhxGVAprjbg0gCAEeIgwCZyTV2Z1REEW8O4py0wsjeloKoMr6iCY6dP92H6Vw/oTyICIthibxjm/DfN9lVz8IqtqKYLUXfoKVMVQVVJOElGjrnnUt9T9wbgp8AyYKaGlqingHZU/uG2NTZSVqwHQTWkx9hxjkpWDaCg6Ckj5qebgBVbT3V3NNXMSiWSDdGV3hrtzla7J+duwPOToIg42ChPQOQjspnSlp1V+Gjdged7+8UN5CRAV7a5EdFNwCjEaBR27b3W890TE7g24NAP/mMDXRWrGoFPQI9ls/MWO2dWFAar/xcOIImbbpA3zgAAAABJRU5ErkJggg==);\n",
       "        }\n",
       "    </style>\n",
       "    <div>\n",
       "        <a href=\"https://bokeh.org\" target=\"_blank\" class=\"bk-notebook-logo\"></a>\n",
       "        <span id=\"ad639e21-190c-4e15-baef-7f85868fc3e0\">Loading BokehJS ...</span>\n",
       "    </div>\n"
      ]
     },
     "metadata": {},
     "output_type": "display_data"
    },
    {
     "data": {
      "application/javascript": "'use strict';\n(function(root) {\n  function now() {\n    return new Date();\n  }\n\n  const force = true;\n\n  if (typeof root._bokeh_onload_callbacks === \"undefined\" || force === true) {\n    root._bokeh_onload_callbacks = [];\n    root._bokeh_is_loading = undefined;\n  }\n\nconst JS_MIME_TYPE = 'application/javascript';\n  const HTML_MIME_TYPE = 'text/html';\n  const EXEC_MIME_TYPE = 'application/vnd.bokehjs_exec.v0+json';\n  const CLASS_NAME = 'output_bokeh rendered_html';\n\n  /**\n   * Render data to the DOM node\n   */\n  function render(props, node) {\n    const script = document.createElement(\"script\");\n    node.appendChild(script);\n  }\n\n  /**\n   * Handle when an output is cleared or removed\n   */\n  function handleClearOutput(event, handle) {\n    function drop(id) {\n      const view = Bokeh.index.get_by_id(id)\n      if (view != null) {\n        view.model.document.clear()\n        Bokeh.index.delete(view)\n      }\n    }\n\n    const cell = handle.cell;\n\n    const id = cell.output_area._bokeh_element_id;\n    const server_id = cell.output_area._bokeh_server_id;\n\n    // Clean up Bokeh references\n    if (id != null) {\n      drop(id)\n    }\n\n    if (server_id !== undefined) {\n      // Clean up Bokeh references\n      const cmd_clean = \"from bokeh.io.state import curstate; print(curstate().uuid_to_server['\" + server_id + \"'].get_sessions()[0].document.roots[0]._id)\";\n      cell.notebook.kernel.execute(cmd_clean, {\n        iopub: {\n          output: function(msg) {\n            const id = msg.content.text.trim()\n            drop(id)\n          }\n        }\n      });\n      // Destroy server and session\n      const cmd_destroy = \"import bokeh.io.notebook as ion; ion.destroy_server('\" + server_id + \"')\";\n      cell.notebook.kernel.execute(cmd_destroy);\n    }\n  }\n\n  /**\n   * Handle when a new output is added\n   */\n  function handleAddOutput(event, handle) {\n    const output_area = handle.output_area;\n    const output = handle.output;\n\n    // limit handleAddOutput to display_data with EXEC_MIME_TYPE content only\n    if ((output.output_type != \"display_data\") || (!Object.prototype.hasOwnProperty.call(output.data, EXEC_MIME_TYPE))) {\n      return\n    }\n\n    const toinsert = output_area.element.find(\".\" + CLASS_NAME.split(' ')[0]);\n\n    if (output.metadata[EXEC_MIME_TYPE][\"id\"] !== undefined) {\n      toinsert[toinsert.length - 1].firstChild.textContent = output.data[JS_MIME_TYPE];\n      // store reference to embed id on output_area\n      output_area._bokeh_element_id = output.metadata[EXEC_MIME_TYPE][\"id\"];\n    }\n    if (output.metadata[EXEC_MIME_TYPE][\"server_id\"] !== undefined) {\n      const bk_div = document.createElement(\"div\");\n      bk_div.innerHTML = output.data[HTML_MIME_TYPE];\n      const script_attrs = bk_div.children[0].attributes;\n      for (let i = 0; i < script_attrs.length; i++) {\n        toinsert[toinsert.length - 1].firstChild.setAttribute(script_attrs[i].name, script_attrs[i].value);\n        toinsert[toinsert.length - 1].firstChild.textContent = bk_div.children[0].textContent\n      }\n      // store reference to server id on output_area\n      output_area._bokeh_server_id = output.metadata[EXEC_MIME_TYPE][\"server_id\"];\n    }\n  }\n\n  function register_renderer(events, OutputArea) {\n\n    function append_mime(data, metadata, element) {\n      // create a DOM node to render to\n      const toinsert = this.create_output_subarea(\n        metadata,\n        CLASS_NAME,\n        EXEC_MIME_TYPE\n      );\n      this.keyboard_manager.register_events(toinsert);\n      // Render to node\n      const props = {data: data, metadata: metadata[EXEC_MIME_TYPE]};\n      render(props, toinsert[toinsert.length - 1]);\n      element.append(toinsert);\n      return toinsert\n    }\n\n    /* Handle when an output is cleared or removed */\n    events.on('clear_output.CodeCell', handleClearOutput);\n    events.on('delete.Cell', handleClearOutput);\n\n    /* Handle when a new output is added */\n    events.on('output_added.OutputArea', handleAddOutput);\n\n    /**\n     * Register the mime type and append_mime function with output_area\n     */\n    OutputArea.prototype.register_mime_type(EXEC_MIME_TYPE, append_mime, {\n      /* Is output safe? */\n      safe: true,\n      /* Index of renderer in `output_area.display_order` */\n      index: 0\n    });\n  }\n\n  // register the mime type if in Jupyter Notebook environment and previously unregistered\n  if (root.Jupyter !== undefined) {\n    const events = require('base/js/events');\n    const OutputArea = require('notebook/js/outputarea').OutputArea;\n\n    if (OutputArea.prototype.mime_types().indexOf(EXEC_MIME_TYPE) == -1) {\n      register_renderer(events, OutputArea);\n    }\n  }\n  if (typeof (root._bokeh_timeout) === \"undefined\" || force === true) {\n    root._bokeh_timeout = Date.now() + 5000;\n    root._bokeh_failed_load = false;\n  }\n\n  const NB_LOAD_WARNING = {'data': {'text/html':\n     \"<div style='background-color: #fdd'>\\n\"+\n     \"<p>\\n\"+\n     \"BokehJS does not appear to have successfully loaded. If loading BokehJS from CDN, this \\n\"+\n     \"may be due to a slow or bad network connection. Possible fixes:\\n\"+\n     \"</p>\\n\"+\n     \"<ul>\\n\"+\n     \"<li>re-rerun `output_notebook()` to attempt to load from CDN again, or</li>\\n\"+\n     \"<li>use INLINE resources instead, as so:</li>\\n\"+\n     \"</ul>\\n\"+\n     \"<code>\\n\"+\n     \"from bokeh.resources import INLINE\\n\"+\n     \"output_notebook(resources=INLINE)\\n\"+\n     \"</code>\\n\"+\n     \"</div>\"}};\n\n  function display_loaded(error = null) {\n    const el = document.getElementById(\"ad639e21-190c-4e15-baef-7f85868fc3e0\");\n    if (el != null) {\n      const html = (() => {\n        if (typeof root.Bokeh === \"undefined\") {\n          if (error == null) {\n            return \"BokehJS is loading ...\";\n          } else {\n            return \"BokehJS failed to load.\";\n          }\n        } else {\n          const prefix = `BokehJS ${root.Bokeh.version}`;\n          if (error == null) {\n            return `${prefix} successfully loaded.`;\n          } else {\n            return `${prefix} <b>encountered errors</b> while loading and may not function as expected.`;\n          }\n        }\n      })();\n      el.innerHTML = html;\n\n      if (error != null) {\n        const wrapper = document.createElement(\"div\");\n        wrapper.style.overflow = \"auto\";\n        wrapper.style.height = \"5em\";\n        wrapper.style.resize = \"vertical\";\n        const content = document.createElement(\"div\");\n        content.style.fontFamily = \"monospace\";\n        content.style.whiteSpace = \"pre-wrap\";\n        content.style.backgroundColor = \"rgb(255, 221, 221)\";\n        content.textContent = error.stack ?? error.toString();\n        wrapper.append(content);\n        el.append(wrapper);\n      }\n    } else if (Date.now() < root._bokeh_timeout) {\n      setTimeout(() => display_loaded(error), 100);\n    }\n  }\n\n  function run_callbacks() {\n    try {\n      root._bokeh_onload_callbacks.forEach(function(callback) {\n        if (callback != null)\n          callback();\n      });\n    } finally {\n      delete root._bokeh_onload_callbacks\n    }\n    console.debug(\"Bokeh: all callbacks have finished\");\n  }\n\n  function load_libs(css_urls, js_urls, callback) {\n    if (css_urls == null) css_urls = [];\n    if (js_urls == null) js_urls = [];\n\n    root._bokeh_onload_callbacks.push(callback);\n    if (root._bokeh_is_loading > 0) {\n      console.debug(\"Bokeh: BokehJS is being loaded, scheduling callback at\", now());\n      return null;\n    }\n    if (js_urls == null || js_urls.length === 0) {\n      run_callbacks();\n      return null;\n    }\n    console.debug(\"Bokeh: BokehJS not loaded, scheduling load and callback at\", now());\n    root._bokeh_is_loading = css_urls.length + js_urls.length;\n\n    function on_load() {\n      root._bokeh_is_loading--;\n      if (root._bokeh_is_loading === 0) {\n        console.debug(\"Bokeh: all BokehJS libraries/stylesheets loaded\");\n        run_callbacks()\n      }\n    }\n\n    function on_error(url) {\n      console.error(\"failed to load \" + url);\n    }\n\n    for (let i = 0; i < css_urls.length; i++) {\n      const url = css_urls[i];\n      const element = document.createElement(\"link\");\n      element.onload = on_load;\n      element.onerror = on_error.bind(null, url);\n      element.rel = \"stylesheet\";\n      element.type = \"text/css\";\n      element.href = url;\n      console.debug(\"Bokeh: injecting link tag for BokehJS stylesheet: \", url);\n      document.body.appendChild(element);\n    }\n\n    for (let i = 0; i < js_urls.length; i++) {\n      const url = js_urls[i];\n      const element = document.createElement('script');\n      element.onload = on_load;\n      element.onerror = on_error.bind(null, url);\n      element.async = false;\n      element.src = url;\n      console.debug(\"Bokeh: injecting script tag for BokehJS library: \", url);\n      document.head.appendChild(element);\n    }\n  };\n\n  function inject_raw_css(css) {\n    const element = document.createElement(\"style\");\n    element.appendChild(document.createTextNode(css));\n    document.body.appendChild(element);\n  }\n\n  const js_urls = [\"https://cdn.bokeh.org/bokeh/release/bokeh-3.6.3.min.js\", \"https://cdn.bokeh.org/bokeh/release/bokeh-gl-3.6.3.min.js\", \"https://cdn.bokeh.org/bokeh/release/bokeh-widgets-3.6.3.min.js\", \"https://cdn.bokeh.org/bokeh/release/bokeh-tables-3.6.3.min.js\", \"https://cdn.bokeh.org/bokeh/release/bokeh-mathjax-3.6.3.min.js\"];\n  const css_urls = [];\n\n  const inline_js = [    function(Bokeh) {\n      Bokeh.set_log_level(\"info\");\n    },\nfunction(Bokeh) {\n    }\n  ];\n\n  function run_inline_js() {\n    if (root.Bokeh !== undefined || force === true) {\n      try {\n            for (let i = 0; i < inline_js.length; i++) {\n      inline_js[i].call(root, root.Bokeh);\n    }\n\n      } catch (error) {display_loaded(error);throw error;\n      }if (force === true) {\n        display_loaded();\n      }} else if (Date.now() < root._bokeh_timeout) {\n      setTimeout(run_inline_js, 100);\n    } else if (!root._bokeh_failed_load) {\n      console.log(\"Bokeh: BokehJS failed to load within specified timeout.\");\n      root._bokeh_failed_load = true;\n    } else if (force !== true) {\n      const cell = $(document.getElementById(\"ad639e21-190c-4e15-baef-7f85868fc3e0\")).parents('.cell').data().cell;\n      cell.output_area.append_execute_result(NB_LOAD_WARNING)\n    }\n  }\n\n  if (root._bokeh_is_loading === 0) {\n    console.debug(\"Bokeh: BokehJS loaded, going straight to plotting\");\n    run_inline_js();\n  } else {\n    load_libs(css_urls, js_urls, function() {\n      console.debug(\"Bokeh: BokehJS plotting callback run at\", now());\n      run_inline_js();\n    });\n  }\n}(window));",
      "application/vnd.bokehjs_load.v0+json": ""
     },
     "metadata": {},
     "output_type": "display_data"
    },
    {
     "data": {
      "text/html": [
       "\n",
       "  <div id=\"a9556798-2e5b-418a-b04a-2c1b2df440c7\" data-root-id=\"p1963\" style=\"display: contents;\"></div>\n"
      ]
     },
     "metadata": {},
     "output_type": "display_data"
    },
    {
     "data": {
      "application/javascript": "(function(root) {\n  function embed_document(root) {\n  const docs_json = {\"8972f3eb-ae6c-42a8-9a39-f4d8bff83a58\":{\"version\":\"3.6.3\",\"title\":\"Bokeh Application\",\"roots\":[{\"type\":\"object\",\"name\":\"Row\",\"id\":\"p1963\",\"attributes\":{\"children\":[{\"type\":\"object\",\"name\":\"Figure\",\"id\":\"p1827\",\"attributes\":{\"x_range\":{\"type\":\"object\",\"name\":\"DataRange1d\",\"id\":\"p1828\"},\"y_range\":{\"type\":\"object\",\"name\":\"DataRange1d\",\"id\":\"p1829\"},\"x_scale\":{\"type\":\"object\",\"name\":\"LinearScale\",\"id\":\"p1837\"},\"y_scale\":{\"type\":\"object\",\"name\":\"LinearScale\",\"id\":\"p1838\"},\"title\":{\"type\":\"object\",\"name\":\"Title\",\"id\":\"p1830\",\"attributes\":{\"text\":\"Simple line example\"}},\"renderers\":[{\"type\":\"object\",\"name\":\"GlyphRenderer\",\"id\":\"p1880\",\"attributes\":{\"data_source\":{\"type\":\"object\",\"name\":\"ColumnDataSource\",\"id\":\"p1874\",\"attributes\":{\"selected\":{\"type\":\"object\",\"name\":\"Selection\",\"id\":\"p1875\",\"attributes\":{\"indices\":[],\"line_indices\":[]}},\"selection_policy\":{\"type\":\"object\",\"name\":\"UnionRenderers\",\"id\":\"p1876\"},\"data\":{\"type\":\"map\",\"entries\":[[\"x\",{\"type\":\"ndarray\",\"array\":{\"type\":\"bytes\",\"data\":\"AABA602cd0IAAABRoJx3QgAAwLbynHdCAACAHEWdd0IAAECCl513QgAAAOjpnXdCAADATTyed0IAAICzjp53QgAAQBnhnndCAAAAfzOfd0IAAMDkhZ93QgAAgErYn3dCAABAsCqgd0IAAAAWfaB3QgAAwHvPoHdCAACA4SGhd0IAAEBHdKF3QgAAAK3GoXdCAADAEhmid0IAAIB4a6J3QgAAQN69ondCAAAARBCjd0IAAMCpYqN3QgAAgA+1o3dCAABAdQekd0IAAADbWaR3QgAAwECspHdCAACApv6kd0IAAEAMUaV3QgAAAHKjpXdCAADA1/Wld0IAAIA9SKZ3QgAAQKOapndCAAAACe2md0IAAMBuP6d3QgAAgNSRp3dCAABAOuSnd0IAAACgNqh3QgAAwAWJqHdCAACAa9uod0IAAEDRLal3QgAAADeAqXdCAADAnNKpd0IAAIACJap3QgAAQGh3qndCAAAAzsmqd0IAAMAzHKt3QgAAgJluq3dCAABA/8Crd0IAAABlE6x3QgAAwMplrHdCAACAMLisd0IAAECWCq13QgAAAPxcrXdCAADAYa+td0IAAIDHAa53QgAAQC1UrndCAAAAk6aud0IAAMD4+K53QgAAgF5Lr3dCAABAxJ2vd0IAAAAq8K93QgAAwI9CsHdCAACA9ZSwd0IAAEBb57B3QgAAAME5sXdCAADAJoyxd0IAAICM3rF3QgAAQPIwsndCAAAAWIOyd0IAAMC91bJ3QgAAgCMos3dCAABAiXqzd0IAAADvzLN3QgAAwFQftHdCAACAunG0d0IAAEAgxLR3QgAAAIYWtXdCAADA62i1d0IAAIBRu7V3QgAAQLcNtndCAAAAHWC2d0IAAMCCsrZ3QgAAgOgEt3dCAABATle3d0IAAAC0qbd3QgAAwBn8t3dCAACAf064d0IAAEDloLh3QgAAAEvzuHdCAADAsEW5d0IAAIAWmLl3QgAAQHzquXdCAAAA4jy6d0IAAMBHj7p3QgAAgK3hundCAABAEzS7d0IAAAB5hrt3QgAAwN7Yu3dCAACARCu8d0IAAECqfbx3QgAAABDQvHdCAADAdSK9d0IAAIDbdL13QgAAQEHHvXdCAAAApxm+d0IAAMAMbL53QgAAgHK+vndCAABA2BC/d0IAAAA+Y793QgAAwKO1v3dCAACACQjAd0IAAEBvWsB3QgAAANWswHdCAADAOv/Ad0IAAICgUcF3QgAAQAakwXdCAAAAbPbBd0IAAMDRSMJ3QgAAgDebwndCAABAne3Cd0IAAAADQMN3QgAAwGiSw3dCAACAzuTDd0IAAEA0N8R3QgAAAJqJxHdCAADA/9vEd0IAAIBlLsV3QgAAQMuAxXdCAAAAMdPFd0IAAMCWJcZ3QgAAgPx3xndCAABAYsrGd0IAAADIHMd3QgAAwC1vx3dCAACAk8HHd0IAAED5E8h3QgAAAF9myHdCAADAxLjId0IAAIAqC8l3QgAAQJBdyXdCAAAA9q/Jd0IAAMBbAsp3QgAAgMFUyndCAABAJ6fKd0IAAACN+cp3QgAAwPJLy3dCAACAWJ7Ld0IAAEC+8Mt3QgAAACRDzHdCAADAiZXMd0IAAIDv58x3QgAAQFU6zXdC\"},\"shape\":[153],\"dtype\":\"float64\",\"order\":\"little\"}],[\"y\",{\"type\":\"ndarray\",\"array\":{\"type\":\"bytes\",\"data\":\"kML1KFyPFECuR+F6FG45QBSuR+F6FC9AexSuR+E6MUAyMzMzMzMZQK5H4XoUDkFAj8L1KFzPQkAehetRuB4gQKRwPQrXoyRAFa5H4XoUAEDMzMzMzIw6QK5H4XoUbjRAXI/C9ShcPkBwPQrXo3AqQGZmZmZmZjJAmpmZmZnZNEClcD0K16MvQD4K16NwvS9Aw/UoXI8COUCamZmZmZk4QLkehetRuCxAZmZmZmYGQEAehetRuF44QJqZmZmZuUJAXI/C9ShcM0CPwvUoXI8vQFK4HoXr0TJACtejcD2qQUB8FK5H4fogQArXo3A9qkFAUrgehetxQUAK16NwPUo9QML1KFyPAkJAAAAAAAAAP0DNzMzMzEw7QIbrUbgeRTFAmpmZmZlZN0C4HoXrUTg7QK5H4XoUripASOF6FK7nUECkcD0K10NOQOJ6FK5HoTdAKVyPwvVIQ0DhehSuR2EyQArXo3A9ikdAcT0K16NwMkBxPQrXo7A/QHE9CtejkERAexSuR+F6PEAAAAAAAAAmQM3MzMzMDDhACtejcD2KM0BI4XoUroc+QPYoXI/CNURAhetRuB6FNkApXI/C9agmQBSuR+F61D9AUrgehetRN0D2KFyPwrU5QLgehetR+EZAUrgehesRQkDNzMzMzAw8QOxRuB6F6z1AexSuR+F6NkAzMzMzM3M9QML1KFyPQiFAMzMzMzPzOkC4HoXrUfg5QFyPwvUo3EhAPgrXo3A9BEApXI/C9ShJQArXo3A9ChpAcD0K16NwK0BxPQrXo3A0QM3MzMzMjEpAXI/C9Si8S0AfhetRuF5JQM3MzMzMzClApHA9CtcjIUDXo3A9ClczQLkehetRuDtA7FG4HoVrJkAVrkfhepRGQBWuR+F6FC5AuB6F61F4O0DsUbgehSs4QHsUrkfhejJAzczMzMyMSEAVrkfhehQ/QDMzMzMzU0JApHA9CtejP0DsUbgehWs0QD4K16NwvTlAFa5H4XoUQkAfhetRuJ49QArXo3A9SjdAkML1KFzvR0DC9Shcj8IuQNejcD0K1zVAmpmZmZnZNkBmZmZmZiZAQK5H4XoUriJA2KNwPQrXPUCG61G4HgU4QNejcD0K1wtArkfhehSuLEDiehSuR+EZQLgehetRmEBAexSuR+HaQUDhehSuR2FAQPUoXI/CNUJAH4XrUbgeGkAUrkfhehQkQFK4HoXrETFAXI/C9SicPkAehetRuJ5HQJmZmZmZeUxAUbgeheuRPEAK16NwPQo3QOJ6FK5HYS5AKVyPwvUoOkCF61G4HuVEQD0K16NwPSlAXI/C9ShcKkC4HoXrUXg+QHoUrkfhegRAehSuR+F6BEBwPQrXo3AqQDMzMzMz8zxAUrgehetRK0CkcD0K1+M/QGdmZmZmJjlASOF6FK5nREDrUbgehYtCQOJ6FK5HYThAFK5H4XpUNkBSuB6F65E7QLgehetRyFFAzczMzMzMPEA9CtejcD0/QB6F61G4HjdASOF6FK5HK0CZmZmZmRkoQGZmZmZmZilACtejcD3KPEB6FK5H4bo/QPYoXI/ClUVA4noUrkchOUAAAAAAAIAwQEjhehSuRztAPQrXo3A9LUA+CtejcL00QHsUrkfhujJA\"},\"shape\":[153],\"dtype\":\"float64\",\"order\":\"little\"}]]}}},\"view\":{\"type\":\"object\",\"name\":\"CDSView\",\"id\":\"p1881\",\"attributes\":{\"filter\":{\"type\":\"object\",\"name\":\"AllIndices\",\"id\":\"p1882\"}}},\"glyph\":{\"type\":\"object\",\"name\":\"Line\",\"id\":\"p1877\",\"attributes\":{\"x\":{\"type\":\"field\",\"field\":\"x\"},\"y\":{\"type\":\"field\",\"field\":\"y\"},\"line_color\":\"#1f77b4\",\"line_width\":2}},\"nonselection_glyph\":{\"type\":\"object\",\"name\":\"Line\",\"id\":\"p1878\",\"attributes\":{\"x\":{\"type\":\"field\",\"field\":\"x\"},\"y\":{\"type\":\"field\",\"field\":\"y\"},\"line_color\":\"#1f77b4\",\"line_alpha\":0.1,\"line_width\":2}},\"muted_glyph\":{\"type\":\"object\",\"name\":\"Line\",\"id\":\"p1879\",\"attributes\":{\"x\":{\"type\":\"field\",\"field\":\"x\"},\"y\":{\"type\":\"field\",\"field\":\"y\"},\"line_color\":\"#1f77b4\",\"line_alpha\":0.2,\"line_width\":2}}}},{\"type\":\"object\",\"name\":\"GlyphRenderer\",\"id\":\"p1891\",\"attributes\":{\"data_source\":{\"type\":\"object\",\"name\":\"ColumnDataSource\",\"id\":\"p1885\",\"attributes\":{\"selected\":{\"type\":\"object\",\"name\":\"Selection\",\"id\":\"p1886\",\"attributes\":{\"indices\":[],\"line_indices\":[]}},\"selection_policy\":{\"type\":\"object\",\"name\":\"UnionRenderers\",\"id\":\"p1887\"},\"data\":{\"type\":\"map\",\"entries\":[[\"x\",{\"type\":\"ndarray\",\"array\":{\"type\":\"bytes\",\"data\":\"AABA602cd0IAAABRoJx3QgAAwLbynHdCAACAHEWdd0IAAECCl513QgAAAOjpnXdCAADATTyed0IAAICzjp53QgAAQBnhnndCAAAAfzOfd0IAAMDkhZ93QgAAgErYn3dCAABAsCqgd0IAAAAWfaB3QgAAwHvPoHdCAACA4SGhd0IAAEBHdKF3QgAAAK3GoXdCAADAEhmid0IAAIB4a6J3QgAAQN69ondCAAAARBCjd0IAAMCpYqN3QgAAgA+1o3dCAABAdQekd0IAAADbWaR3QgAAwECspHdCAACApv6kd0IAAEAMUaV3QgAAAHKjpXdCAADA1/Wld0IAAIA9SKZ3QgAAQKOapndCAAAACe2md0IAAMBuP6d3QgAAgNSRp3dCAABAOuSnd0IAAACgNqh3QgAAwAWJqHdCAACAa9uod0IAAEDRLal3QgAAADeAqXdCAADAnNKpd0IAAIACJap3QgAAQGh3qndCAAAAzsmqd0IAAMAzHKt3QgAAgJluq3dCAABA/8Crd0IAAABlE6x3QgAAwMplrHdCAACAMLisd0IAAECWCq13QgAAAPxcrXdCAADAYa+td0IAAIDHAa53QgAAQC1UrndCAAAAk6aud0IAAMD4+K53QgAAgF5Lr3dCAABAxJ2vd0IAAAAq8K93QgAAwI9CsHdCAACA9ZSwd0IAAEBb57B3QgAAAME5sXdCAADAJoyxd0IAAICM3rF3QgAAQPIwsndCAAAAWIOyd0IAAMC91bJ3QgAAgCMos3dCAABAiXqzd0IAAADvzLN3QgAAwFQftHdCAACAunG0d0IAAEAgxLR3QgAAAIYWtXdCAADA62i1d0IAAIBRu7V3QgAAQLcNtndCAAAAHWC2d0IAAMCCsrZ3QgAAgOgEt3dCAABATle3d0IAAAC0qbd3QgAAwBn8t3dCAACAf064d0IAAEDloLh3QgAAAEvzuHdCAADAsEW5d0IAAIAWmLl3QgAAQHzquXdCAAAA4jy6d0IAAMBHj7p3QgAAgK3hundCAABAEzS7d0IAAAB5hrt3QgAAwN7Yu3dCAACARCu8d0IAAECqfbx3QgAAABDQvHdCAADAdSK9d0IAAIDbdL13QgAAQEHHvXdCAAAApxm+d0IAAMAMbL53QgAAgHK+vndCAABA2BC/d0IAAAA+Y793QgAAwKO1v3dCAACACQjAd0IAAEBvWsB3QgAAANWswHdCAADAOv/Ad0IAAICgUcF3QgAAQAakwXdCAAAAbPbBd0IAAMDRSMJ3QgAAgDebwndCAABAne3Cd0IAAAADQMN3QgAAwGiSw3dCAACAzuTDd0IAAEA0N8R3QgAAAJqJxHdCAADA/9vEd0IAAIBlLsV3QgAAQMuAxXdCAAAAMdPFd0IAAMCWJcZ3QgAAgPx3xndCAABAYsrGd0IAAADIHMd3QgAAwC1vx3dCAACAk8HHd0IAAED5E8h3QgAAAF9myHdCAADAxLjId0IAAIAqC8l3QgAAQJBdyXdCAAAA9q/Jd0IAAMBbAsp3QgAAgMFUyndCAABAJ6fKd0IAAACN+cp3QgAAwPJLy3dCAACAWJ7Ld0IAAEC+8Mt3QgAAACRDzHdCAADAiZXMd0IAAIDv58x3QgAAQFU6zXdC\"},\"shape\":[153],\"dtype\":\"float64\",\"order\":\"little\"}],[\"y\",{\"type\":\"ndarray\",\"array\":{\"type\":\"bytes\",\"data\":\"AgAAAAoAAAAGAAAABwAAAAIAAAANAAAADQAAAAMAAAAEAAAAAQAAAAkAAAAIAAAACwAAAAYAAAAIAAAACAAAAAYAAAAGAAAACQAAAAkAAAAGAAAADAAAAAkAAAAOAAAABwAAAAYAAAAHAAAADQAAAAMAAAAMAAAADAAAAAkAAAALAAAACgAAAAgAAAAFAAAABwAAAAgAAAAEAAAAEwAAABIAAAAHAAAADAAAAAYAAAAOAAAABgAAAAsAAAANAAAACAAAAAQAAAAIAAAABgAAAAkAAAAMAAAABwAAAAMAAAAKAAAABwAAAAgAAAAOAAAACwAAAAkAAAAKAAAABwAAAAgAAAADAAAACAAAAAkAAAAPAAAAAgAAAA8AAAACAAAABQAAAAYAAAAQAAAAEAAAABEAAAAEAAAAAwAAAAYAAAAJAAAABAAAAA4AAAAFAAAACAAAAAgAAAAGAAAADwAAAAoAAAAKAAAACQAAAAYAAAAJAAAACwAAAAkAAAAHAAAADgAAAAUAAAAGAAAABwAAAAoAAAADAAAACQAAAAcAAAABAAAABAAAAAIAAAAKAAAACgAAAAsAAAAKAAAAAgAAAAMAAAAFAAAACQAAAA8AAAAQAAAACAAAAAYAAAAFAAAABwAAAA0AAAAEAAAABAAAAAkAAAABAAAAAQAAAAQAAAAJAAAABQAAAAkAAAAIAAAADQAAAAsAAAAHAAAABwAAAAcAAAAVAAAACAAAAAoAAAAHAAAABAAAAAMAAAAEAAAACAAAAAkAAAANAAAABwAAAAUAAAAIAAAABAAAAAYAAAAFAAAA\"},\"shape\":[153],\"dtype\":\"int32\",\"order\":\"little\"}]]}}},\"view\":{\"type\":\"object\",\"name\":\"CDSView\",\"id\":\"p1892\",\"attributes\":{\"filter\":{\"type\":\"object\",\"name\":\"AllIndices\",\"id\":\"p1893\"}}},\"glyph\":{\"type\":\"object\",\"name\":\"Line\",\"id\":\"p1888\",\"attributes\":{\"x\":{\"type\":\"field\",\"field\":\"x\"},\"y\":{\"type\":\"field\",\"field\":\"y\"},\"line_color\":\"red\",\"line_width\":2}},\"nonselection_glyph\":{\"type\":\"object\",\"name\":\"Line\",\"id\":\"p1889\",\"attributes\":{\"x\":{\"type\":\"field\",\"field\":\"x\"},\"y\":{\"type\":\"field\",\"field\":\"y\"},\"line_color\":\"red\",\"line_alpha\":0.1,\"line_width\":2}},\"muted_glyph\":{\"type\":\"object\",\"name\":\"Line\",\"id\":\"p1890\",\"attributes\":{\"x\":{\"type\":\"field\",\"field\":\"x\"},\"y\":{\"type\":\"field\",\"field\":\"y\"},\"line_color\":\"red\",\"line_alpha\":0.2,\"line_width\":2}}}}],\"toolbar\":{\"type\":\"object\",\"name\":\"Toolbar\",\"id\":\"p1836\",\"attributes\":{\"tools\":[{\"type\":\"object\",\"name\":\"PanTool\",\"id\":\"p1861\"},{\"type\":\"object\",\"name\":\"WheelZoomTool\",\"id\":\"p1862\",\"attributes\":{\"renderers\":\"auto\"}},{\"type\":\"object\",\"name\":\"BoxZoomTool\",\"id\":\"p1863\",\"attributes\":{\"overlay\":{\"type\":\"object\",\"name\":\"BoxAnnotation\",\"id\":\"p1864\",\"attributes\":{\"syncable\":false,\"line_color\":\"black\",\"line_alpha\":1.0,\"line_width\":2,\"line_dash\":[4,4],\"fill_color\":\"lightgrey\",\"fill_alpha\":0.5,\"level\":\"overlay\",\"visible\":false,\"left\":{\"type\":\"number\",\"value\":\"nan\"},\"right\":{\"type\":\"number\",\"value\":\"nan\"},\"top\":{\"type\":\"number\",\"value\":\"nan\"},\"bottom\":{\"type\":\"number\",\"value\":\"nan\"},\"left_units\":\"canvas\",\"right_units\":\"canvas\",\"top_units\":\"canvas\",\"bottom_units\":\"canvas\",\"handles\":{\"type\":\"object\",\"name\":\"BoxInteractionHandles\",\"id\":\"p1870\",\"attributes\":{\"all\":{\"type\":\"object\",\"name\":\"AreaVisuals\",\"id\":\"p1869\",\"attributes\":{\"fill_color\":\"white\",\"hover_fill_color\":\"lightgray\"}}}}}}}},{\"type\":\"object\",\"name\":\"SaveTool\",\"id\":\"p1871\"},{\"type\":\"object\",\"name\":\"ResetTool\",\"id\":\"p1872\"},{\"type\":\"object\",\"name\":\"HelpTool\",\"id\":\"p1873\"}]}},\"left\":[{\"type\":\"object\",\"name\":\"LinearAxis\",\"id\":\"p1856\",\"attributes\":{\"ticker\":{\"type\":\"object\",\"name\":\"BasicTicker\",\"id\":\"p1857\",\"attributes\":{\"mantissas\":[1,2,5]}},\"formatter\":{\"type\":\"object\",\"name\":\"BasicTickFormatter\",\"id\":\"p1858\"},\"axis_label\":\"sales\",\"major_label_policy\":{\"type\":\"object\",\"name\":\"AllLabels\",\"id\":\"p1859\"}}}],\"below\":[{\"type\":\"object\",\"name\":\"DatetimeAxis\",\"id\":\"p1839\",\"attributes\":{\"ticker\":{\"type\":\"object\",\"name\":\"DatetimeTicker\",\"id\":\"p1840\",\"attributes\":{\"num_minor_ticks\":5,\"tickers\":[{\"type\":\"object\",\"name\":\"AdaptiveTicker\",\"id\":\"p1841\",\"attributes\":{\"num_minor_ticks\":0,\"mantissas\":[1,2,5],\"max_interval\":500.0}},{\"type\":\"object\",\"name\":\"AdaptiveTicker\",\"id\":\"p1842\",\"attributes\":{\"num_minor_ticks\":0,\"base\":60,\"mantissas\":[1,2,5,10,15,20,30],\"min_interval\":1000.0,\"max_interval\":1800000.0}},{\"type\":\"object\",\"name\":\"AdaptiveTicker\",\"id\":\"p1843\",\"attributes\":{\"num_minor_ticks\":0,\"base\":24,\"mantissas\":[1,2,4,6,8,12],\"min_interval\":3600000.0,\"max_interval\":43200000.0}},{\"type\":\"object\",\"name\":\"DaysTicker\",\"id\":\"p1844\",\"attributes\":{\"days\":[1,2,3,4,5,6,7,8,9,10,11,12,13,14,15,16,17,18,19,20,21,22,23,24,25,26,27,28,29,30,31]}},{\"type\":\"object\",\"name\":\"DaysTicker\",\"id\":\"p1845\",\"attributes\":{\"days\":[1,4,7,10,13,16,19,22,25,28]}},{\"type\":\"object\",\"name\":\"DaysTicker\",\"id\":\"p1846\",\"attributes\":{\"days\":[1,8,15,22]}},{\"type\":\"object\",\"name\":\"DaysTicker\",\"id\":\"p1847\",\"attributes\":{\"days\":[1,15]}},{\"type\":\"object\",\"name\":\"MonthsTicker\",\"id\":\"p1848\",\"attributes\":{\"months\":[0,1,2,3,4,5,6,7,8,9,10,11]}},{\"type\":\"object\",\"name\":\"MonthsTicker\",\"id\":\"p1849\",\"attributes\":{\"months\":[0,2,4,6,8,10]}},{\"type\":\"object\",\"name\":\"MonthsTicker\",\"id\":\"p1850\",\"attributes\":{\"months\":[0,4,8]}},{\"type\":\"object\",\"name\":\"MonthsTicker\",\"id\":\"p1851\",\"attributes\":{\"months\":[0,6]}},{\"type\":\"object\",\"name\":\"YearsTicker\",\"id\":\"p1852\"}]}},\"formatter\":{\"type\":\"object\",\"name\":\"DatetimeTickFormatter\",\"id\":\"p1853\"},\"axis_label\":\"date\",\"major_label_policy\":{\"type\":\"object\",\"name\":\"AllLabels\",\"id\":\"p1854\"}}}],\"center\":[{\"type\":\"object\",\"name\":\"Grid\",\"id\":\"p1855\",\"attributes\":{\"axis\":{\"id\":\"p1839\"}}},{\"type\":\"object\",\"name\":\"Grid\",\"id\":\"p1860\",\"attributes\":{\"dimension\":1,\"axis\":{\"id\":\"p1856\"}}},{\"type\":\"object\",\"name\":\"Legend\",\"id\":\"p1883\",\"attributes\":{\"items\":[{\"type\":\"object\",\"name\":\"LegendItem\",\"id\":\"p1884\",\"attributes\":{\"label\":{\"type\":\"value\",\"value\":\"Sales prices\"},\"renderers\":[{\"id\":\"p1880\"}]}},{\"type\":\"object\",\"name\":\"LegendItem\",\"id\":\"p1894\",\"attributes\":{\"label\":{\"type\":\"value\",\"value\":\"Sales volume\"},\"renderers\":[{\"id\":\"p1891\"}]}}]}}]}},{\"type\":\"object\",\"name\":\"Figure\",\"id\":\"p1895\",\"attributes\":{\"x_range\":{\"type\":\"object\",\"name\":\"DataRange1d\",\"id\":\"p1896\"},\"y_range\":{\"type\":\"object\",\"name\":\"DataRange1d\",\"id\":\"p1897\"},\"x_scale\":{\"type\":\"object\",\"name\":\"LinearScale\",\"id\":\"p1905\"},\"y_scale\":{\"type\":\"object\",\"name\":\"LinearScale\",\"id\":\"p1906\"},\"title\":{\"type\":\"object\",\"name\":\"Title\",\"id\":\"p1898\",\"attributes\":{\"text\":\"Premium\"}},\"renderers\":[{\"type\":\"object\",\"name\":\"GlyphRenderer\",\"id\":\"p1948\",\"attributes\":{\"data_source\":{\"type\":\"object\",\"name\":\"ColumnDataSource\",\"id\":\"p1942\",\"attributes\":{\"selected\":{\"type\":\"object\",\"name\":\"Selection\",\"id\":\"p1943\",\"attributes\":{\"indices\":[],\"line_indices\":[]}},\"selection_policy\":{\"type\":\"object\",\"name\":\"UnionRenderers\",\"id\":\"p1944\"},\"data\":{\"type\":\"map\",\"entries\":[[\"x\",{\"type\":\"ndarray\",\"array\":{\"type\":\"bytes\",\"data\":\"AABA602cd0IAAABRoJx3QgAAwLbynHdCAACAHEWdd0IAAECCl513QgAAAOjpnXdCAADATTyed0IAAICzjp53QgAAQBnhnndCAAAAfzOfd0IAAMDkhZ93QgAAgErYn3dCAABAsCqgd0IAAAAWfaB3QgAAwHvPoHdCAACA4SGhd0IAAEBHdKF3QgAAAK3GoXdCAADAEhmid0IAAIB4a6J3QgAAQN69ondCAAAARBCjd0IAAMCpYqN3QgAAgA+1o3dCAABAdQekd0IAAADbWaR3QgAAwECspHdCAACApv6kd0IAAEAMUaV3QgAAAHKjpXdCAADA1/Wld0IAAIA9SKZ3QgAAQKOapndCAAAACe2md0IAAMBuP6d3QgAAgNSRp3dCAABAOuSnd0IAAACgNqh3QgAAwAWJqHdCAACAa9uod0IAAEDRLal3QgAAADeAqXdCAADAnNKpd0IAAIACJap3QgAAQGh3qndCAAAAzsmqd0IAAMAzHKt3QgAAgJluq3dCAABA/8Crd0IAAABlE6x3QgAAwMplrHdCAACAMLisd0IAAECWCq13QgAAAPxcrXdCAADAYa+td0IAAIDHAa53QgAAQC1UrndCAAAAk6aud0IAAMD4+K53QgAAgF5Lr3dCAABAxJ2vd0IAAAAq8K93QgAAwI9CsHdCAACA9ZSwd0IAAEBb57B3QgAAAME5sXdCAADAJoyxd0IAAICM3rF3QgAAQPIwsndCAAAAWIOyd0IAAMC91bJ3QgAAgCMos3dCAABAiXqzd0IAAADvzLN3QgAAwFQftHdCAACAunG0d0IAAEAgxLR3QgAAAIYWtXdCAADA62i1d0IAAIBRu7V3QgAAQLcNtndCAAAAHWC2d0IAAMCCsrZ3QgAAgOgEt3dCAABATle3d0IAAAC0qbd3QgAAwBn8t3dCAACAf064d0IAAEDloLh3QgAAAEvzuHdCAADAsEW5d0IAAIAWmLl3QgAAQHzquXdCAAAA4jy6d0IAAMBHj7p3QgAAgK3hundCAABAEzS7d0IAAAB5hrt3QgAAwN7Yu3dCAACARCu8d0IAAECqfbx3QgAAABDQvHdCAADAdSK9d0IAAIDbdL13QgAAQEHHvXdCAAAApxm+d0IAAMAMbL53QgAAgHK+vndCAABA2BC/d0IAAAA+Y793QgAAwKO1v3dCAACACQjAd0IAAEBvWsB3QgAAANWswHdCAADAOv/Ad0IAAICgUcF3QgAAQAakwXdCAAAAbPbBd0IAAMDRSMJ3QgAAgDebwndCAABAne3Cd0IAAAADQMN3QgAAwGiSw3dCAACAzuTDd0IAAEA0N8R3QgAAAJqJxHdCAADA/9vEd0IAAIBlLsV3QgAAQMuAxXdCAAAAMdPFd0IAAMCWJcZ3QgAAgPx3xndCAABAYsrGd0IAAADIHMd3QgAAwC1vx3dCAACAk8HHd0IAAED5E8h3QgAAAF9myHdCAADAxLjId0IAAIAqC8l3QgAAQJBdyXdCAAAA9q/Jd0IAAMBbAsp3QgAAgMFUyndCAABAJ6fKd0IAAACN+cp3QgAAwPJLy3dCAACAWJ7Ld0IAAEC+8Mt3QgAAACRDzHdCAADAiZXMd0IAAIDv58x3QgAAQFU6zXdC\"},\"shape\":[153],\"dtype\":\"float64\",\"order\":\"little\"}],[\"y\",{\"type\":\"ndarray\",\"array\":{\"type\":\"bytes\",\"data\":\"AAAAAAAAAEB7FK5H4fojQB6F61G4HhhACtejcD0KH0AAAAAAAAAAACCF61G4HihAFa5H4XoUGEAAAAAAAAD8PwrXo3A9ChBAFa5H4XoUAEAUrkfhehQXQP///////x5AUrgehetRIECZmZmZmRkkQB6F61G4HihAKVyPwvUoIECamZmZmZkYQKRwPQrXoxhASOF6FK5HFkDC9Shcj8IUQKVwPQrXox9AcT0K16NwJEApXI/C9SgXQHsUrkfh+idAUrgehetREEB7FK5H4XoYQEjhehSuRxlAfBSuR+F6JEBnZmZmZmYAQK5H4XoUrhhAPgrXo3A9L0CF61G4HgUkQDMzMzMzsyhAkML1KFyPJ0DC9Shcj8ISQBWuR+F6FBRAhetRuB6FHkCkcD0K16McQFyPwvUoXBRArkfhehQuKUAAAAAAAIAsQAAAAAAAAB5AKVyPwvWoJ0AqXI/C9SgeQKRwPQrXIylAkML1KFyPHED2KFyPwjU0QArXo3A9iidAHoXrUbgeEkA+CtejcD0eQFyPwvUoXChAkML1KFyPHkDNzMzMzMwcQEjhehSuRyNAkML1KFyPHEAAAAAAAAAAAJqZmZmZGSlAKlyPwvUoHkCamZmZmZkcQD4K16NwPS1AAAAAAAAAKUA+CtejcL0iQFyPwvUoXCxApHA9CtejHECuR+F6FK4SQLgehetRuBJAcT0K16NwHEBI4XoUrscsQOxRuB6F6yxAPgrXo3A9BEBcj8L1KNwtQD4K16NwPQRAexSuR+F6I0A0MzMzMzMUQArXo3A9Ci1AMzMzMzMzKUD2KFyPwjU1QHoUrkfhehRAUrgehetRFEBcj8L1KFwdQIXrUbgehSdA4noUrkfhHECamZmZmZksQF2PwvUoXB5AXY/C9ShcHkCG61G4HoUoQJqZmZmZGSVAhetRuB4FNEDhehSuR2EoQClcj8L1KBRAPgrXo3A9HkBSuB6F61ESQEjhehSuxytAAAAAAAAAKUB7FK5H4fojQEjhehSuRx5AzczMzMxMKEAAAAAAAAAeQGZmZmZmZgJAIIXrUbgeHkCamZmZmRkpQEjhehSuRxRAFa5H4XoUJEAVrkfhehQUQAAAAAAAAAAAAAAAAAAAAAAVrkfhehQEQM7MzMzMTClAw/UoXI/CEkDXo3A9ClcxQFK4HoXrURRAUrgehetRBECkcD0K16MAQFyPwvUoXBRAcT0K16NwHkDhehSuR+EwQGZmZmZmZilAehSuR+F6FEBnZmZmZmYEQMP1KFyPwhxACtejcD0KAUDhehSuR+EsQHoUrkfhehRAehSuR+F6FEC4HoXrUbgkQHoUrkfhegRAehSuR+F6BECPwvUoXI8UQBSuR+F6lCNAFK5H4XoUHUDWo3A9CtceQI/C9ShcDyJA16NwPQqXMUCPwvUoXI8kQMzMzMzMzBJAehSuR+F6JEAAAAAAAAAAANajcD0K1zZAehSuR+F6FEAehetRuJ4oQD0K16NwPRxAZmZmZmZmBEAAAAAAAAAAAHoUrkfhehNA4XoUrkfhHUBmZmZmZmYUQFyPwvUo3C1AcD0K16NwEkDC9Shcj8ITQMzMzMzMzBxAZmZmZmZmBEDC9Shcj8ISQI/C9ShcjwRA\"},\"shape\":[153],\"dtype\":\"float64\",\"order\":\"little\"}]]}}},\"view\":{\"type\":\"object\",\"name\":\"CDSView\",\"id\":\"p1949\",\"attributes\":{\"filter\":{\"type\":\"object\",\"name\":\"AllIndices\",\"id\":\"p1950\"}}},\"glyph\":{\"type\":\"object\",\"name\":\"Line\",\"id\":\"p1945\",\"attributes\":{\"x\":{\"type\":\"field\",\"field\":\"x\"},\"y\":{\"type\":\"field\",\"field\":\"y\"},\"line_color\":\"#1f77b4\",\"line_width\":2}},\"nonselection_glyph\":{\"type\":\"object\",\"name\":\"Line\",\"id\":\"p1946\",\"attributes\":{\"x\":{\"type\":\"field\",\"field\":\"x\"},\"y\":{\"type\":\"field\",\"field\":\"y\"},\"line_color\":\"#1f77b4\",\"line_alpha\":0.1,\"line_width\":2}},\"muted_glyph\":{\"type\":\"object\",\"name\":\"Line\",\"id\":\"p1947\",\"attributes\":{\"x\":{\"type\":\"field\",\"field\":\"x\"},\"y\":{\"type\":\"field\",\"field\":\"y\"},\"line_color\":\"#1f77b4\",\"line_alpha\":0.2,\"line_width\":2}}}},{\"type\":\"object\",\"name\":\"GlyphRenderer\",\"id\":\"p1959\",\"attributes\":{\"data_source\":{\"type\":\"object\",\"name\":\"ColumnDataSource\",\"id\":\"p1953\",\"attributes\":{\"selected\":{\"type\":\"object\",\"name\":\"Selection\",\"id\":\"p1954\",\"attributes\":{\"indices\":[],\"line_indices\":[]}},\"selection_policy\":{\"type\":\"object\",\"name\":\"UnionRenderers\",\"id\":\"p1955\"},\"data\":{\"type\":\"map\",\"entries\":[[\"x\",{\"type\":\"ndarray\",\"array\":{\"type\":\"bytes\",\"data\":\"AABA602cd0IAAABRoJx3QgAAwLbynHdCAACAHEWdd0IAAECCl513QgAAAOjpnXdCAADATTyed0IAAICzjp53QgAAQBnhnndCAAAAfzOfd0IAAMDkhZ93QgAAgErYn3dCAABAsCqgd0IAAAAWfaB3QgAAwHvPoHdCAACA4SGhd0IAAEBHdKF3QgAAAK3GoXdCAADAEhmid0IAAIB4a6J3QgAAQN69ondCAAAARBCjd0IAAMCpYqN3QgAAgA+1o3dCAABAdQekd0IAAADbWaR3QgAAwECspHdCAACApv6kd0IAAEAMUaV3QgAAAHKjpXdCAADA1/Wld0IAAIA9SKZ3QgAAQKOapndCAAAACe2md0IAAMBuP6d3QgAAgNSRp3dCAABAOuSnd0IAAACgNqh3QgAAwAWJqHdCAACAa9uod0IAAEDRLal3QgAAADeAqXdCAADAnNKpd0IAAIACJap3QgAAQGh3qndCAAAAzsmqd0IAAMAzHKt3QgAAgJluq3dCAABA/8Crd0IAAABlE6x3QgAAwMplrHdCAACAMLisd0IAAECWCq13QgAAAPxcrXdCAADAYa+td0IAAIDHAa53QgAAQC1UrndCAAAAk6aud0IAAMD4+K53QgAAgF5Lr3dCAABAxJ2vd0IAAAAq8K93QgAAwI9CsHdCAACA9ZSwd0IAAEBb57B3QgAAAME5sXdCAADAJoyxd0IAAICM3rF3QgAAQPIwsndCAAAAWIOyd0IAAMC91bJ3QgAAgCMos3dCAABAiXqzd0IAAADvzLN3QgAAwFQftHdCAACAunG0d0IAAEAgxLR3QgAAAIYWtXdCAADA62i1d0IAAIBRu7V3QgAAQLcNtndCAAAAHWC2d0IAAMCCsrZ3QgAAgOgEt3dCAABATle3d0IAAAC0qbd3QgAAwBn8t3dCAACAf064d0IAAEDloLh3QgAAAEvzuHdCAADAsEW5d0IAAIAWmLl3QgAAQHzquXdCAAAA4jy6d0IAAMBHj7p3QgAAgK3hundCAABAEzS7d0IAAAB5hrt3QgAAwN7Yu3dCAACARCu8d0IAAECqfbx3QgAAABDQvHdCAADAdSK9d0IAAIDbdL13QgAAQEHHvXdCAAAApxm+d0IAAMAMbL53QgAAgHK+vndCAABA2BC/d0IAAAA+Y793QgAAwKO1v3dCAACACQjAd0IAAEBvWsB3QgAAANWswHdCAADAOv/Ad0IAAICgUcF3QgAAQAakwXdCAAAAbPbBd0IAAMDRSMJ3QgAAgDebwndCAABAne3Cd0IAAAADQMN3QgAAwGiSw3dCAACAzuTDd0IAAEA0N8R3QgAAAJqJxHdCAADA/9vEd0IAAIBlLsV3QgAAQMuAxXdCAAAAMdPFd0IAAMCWJcZ3QgAAgPx3xndCAABAYsrGd0IAAADIHMd3QgAAwC1vx3dCAACAk8HHd0IAAED5E8h3QgAAAF9myHdCAADAxLjId0IAAIAqC8l3QgAAQJBdyXdCAAAA9q/Jd0IAAMBbAsp3QgAAgMFUyndCAABAJ6fKd0IAAACN+cp3QgAAwPJLy3dCAACAWJ7Ld0IAAEC+8Mt3QgAAACRDzHdCAADAiZXMd0IAAIDv58x3QgAAQFU6zXdC\"},\"shape\":[153],\"dtype\":\"float64\",\"order\":\"little\"}],[\"y\",{\"type\":\"ndarray\",\"array\":{\"type\":\"bytes\",\"data\":\"AQAAAAUAAAADAAAABAAAAAAAAAAGAAAAAwAAAAEAAAACAAAAAQAAAAMAAAAEAAAABAAAAAUAAAAGAAAABAAAAAMAAAADAAAAAwAAAAMAAAAEAAAABQAAAAMAAAAGAAAAAgAAAAMAAAADAAAABQAAAAEAAAADAAAABwAAAAQAAAAFAAAABQAAAAIAAAACAAAAAwAAAAMAAAACAAAABQAAAAYAAAADAAAABQAAAAMAAAAFAAAAAwAAAAgAAAAFAAAAAgAAAAMAAAAFAAAAAwAAAAMAAAAEAAAAAwAAAAAAAAAFAAAAAwAAAAMAAAAGAAAABQAAAAQAAAAGAAAAAwAAAAIAAAACAAAAAwAAAAYAAAAGAAAAAgAAAAYAAAABAAAABAAAAAIAAAAGAAAABQAAAAkAAAACAAAAAgAAAAMAAAAFAAAAAwAAAAYAAAADAAAAAwAAAAUAAAAEAAAACAAAAAUAAAACAAAAAwAAAAIAAAAGAAAABQAAAAQAAAADAAAABQAAAAMAAAABAAAAAwAAAAUAAAACAAAABAAAAAIAAAAAAAAAAAAAAAEAAAAFAAAAAgAAAAcAAAACAAAAAQAAAAEAAAACAAAAAwAAAAcAAAAFAAAAAgAAAAEAAAADAAAAAQAAAAYAAAACAAAAAgAAAAQAAAABAAAAAQAAAAIAAAAEAAAAAwAAAAMAAAAEAAAABwAAAAQAAAACAAAABAAAAAAAAAAJAAAAAgAAAAUAAAADAAAAAQAAAAAAAAACAAAAAwAAAAIAAAAGAAAAAgAAAAIAAAADAAAAAQAAAAIAAAABAAAA\"},\"shape\":[153],\"dtype\":\"int32\",\"order\":\"little\"}]]}}},\"view\":{\"type\":\"object\",\"name\":\"CDSView\",\"id\":\"p1960\",\"attributes\":{\"filter\":{\"type\":\"object\",\"name\":\"AllIndices\",\"id\":\"p1961\"}}},\"glyph\":{\"type\":\"object\",\"name\":\"Line\",\"id\":\"p1956\",\"attributes\":{\"x\":{\"type\":\"field\",\"field\":\"x\"},\"y\":{\"type\":\"field\",\"field\":\"y\"},\"line_color\":\"red\",\"line_width\":2}},\"nonselection_glyph\":{\"type\":\"object\",\"name\":\"Line\",\"id\":\"p1957\",\"attributes\":{\"x\":{\"type\":\"field\",\"field\":\"x\"},\"y\":{\"type\":\"field\",\"field\":\"y\"},\"line_color\":\"red\",\"line_alpha\":0.1,\"line_width\":2}},\"muted_glyph\":{\"type\":\"object\",\"name\":\"Line\",\"id\":\"p1958\",\"attributes\":{\"x\":{\"type\":\"field\",\"field\":\"x\"},\"y\":{\"type\":\"field\",\"field\":\"y\"},\"line_color\":\"red\",\"line_alpha\":0.2,\"line_width\":2}}}}],\"toolbar\":{\"type\":\"object\",\"name\":\"Toolbar\",\"id\":\"p1904\",\"attributes\":{\"tools\":[{\"type\":\"object\",\"name\":\"PanTool\",\"id\":\"p1929\"},{\"type\":\"object\",\"name\":\"WheelZoomTool\",\"id\":\"p1930\",\"attributes\":{\"renderers\":\"auto\"}},{\"type\":\"object\",\"name\":\"BoxZoomTool\",\"id\":\"p1931\",\"attributes\":{\"overlay\":{\"type\":\"object\",\"name\":\"BoxAnnotation\",\"id\":\"p1932\",\"attributes\":{\"syncable\":false,\"line_color\":\"black\",\"line_alpha\":1.0,\"line_width\":2,\"line_dash\":[4,4],\"fill_color\":\"lightgrey\",\"fill_alpha\":0.5,\"level\":\"overlay\",\"visible\":false,\"left\":{\"type\":\"number\",\"value\":\"nan\"},\"right\":{\"type\":\"number\",\"value\":\"nan\"},\"top\":{\"type\":\"number\",\"value\":\"nan\"},\"bottom\":{\"type\":\"number\",\"value\":\"nan\"},\"left_units\":\"canvas\",\"right_units\":\"canvas\",\"top_units\":\"canvas\",\"bottom_units\":\"canvas\",\"handles\":{\"type\":\"object\",\"name\":\"BoxInteractionHandles\",\"id\":\"p1938\",\"attributes\":{\"all\":{\"type\":\"object\",\"name\":\"AreaVisuals\",\"id\":\"p1937\",\"attributes\":{\"fill_color\":\"white\",\"hover_fill_color\":\"lightgray\"}}}}}}}},{\"type\":\"object\",\"name\":\"SaveTool\",\"id\":\"p1939\"},{\"type\":\"object\",\"name\":\"ResetTool\",\"id\":\"p1940\"},{\"type\":\"object\",\"name\":\"HelpTool\",\"id\":\"p1941\"}]}},\"left\":[{\"type\":\"object\",\"name\":\"LinearAxis\",\"id\":\"p1924\",\"attributes\":{\"ticker\":{\"type\":\"object\",\"name\":\"BasicTicker\",\"id\":\"p1925\",\"attributes\":{\"mantissas\":[1,2,5]}},\"formatter\":{\"type\":\"object\",\"name\":\"BasicTickFormatter\",\"id\":\"p1926\"},\"axis_label\":\"sales\",\"major_label_policy\":{\"type\":\"object\",\"name\":\"AllLabels\",\"id\":\"p1927\"}}}],\"below\":[{\"type\":\"object\",\"name\":\"DatetimeAxis\",\"id\":\"p1907\",\"attributes\":{\"ticker\":{\"type\":\"object\",\"name\":\"DatetimeTicker\",\"id\":\"p1908\",\"attributes\":{\"num_minor_ticks\":5,\"tickers\":[{\"type\":\"object\",\"name\":\"AdaptiveTicker\",\"id\":\"p1909\",\"attributes\":{\"num_minor_ticks\":0,\"mantissas\":[1,2,5],\"max_interval\":500.0}},{\"type\":\"object\",\"name\":\"AdaptiveTicker\",\"id\":\"p1910\",\"attributes\":{\"num_minor_ticks\":0,\"base\":60,\"mantissas\":[1,2,5,10,15,20,30],\"min_interval\":1000.0,\"max_interval\":1800000.0}},{\"type\":\"object\",\"name\":\"AdaptiveTicker\",\"id\":\"p1911\",\"attributes\":{\"num_minor_ticks\":0,\"base\":24,\"mantissas\":[1,2,4,6,8,12],\"min_interval\":3600000.0,\"max_interval\":43200000.0}},{\"type\":\"object\",\"name\":\"DaysTicker\",\"id\":\"p1912\",\"attributes\":{\"days\":[1,2,3,4,5,6,7,8,9,10,11,12,13,14,15,16,17,18,19,20,21,22,23,24,25,26,27,28,29,30,31]}},{\"type\":\"object\",\"name\":\"DaysTicker\",\"id\":\"p1913\",\"attributes\":{\"days\":[1,4,7,10,13,16,19,22,25,28]}},{\"type\":\"object\",\"name\":\"DaysTicker\",\"id\":\"p1914\",\"attributes\":{\"days\":[1,8,15,22]}},{\"type\":\"object\",\"name\":\"DaysTicker\",\"id\":\"p1915\",\"attributes\":{\"days\":[1,15]}},{\"type\":\"object\",\"name\":\"MonthsTicker\",\"id\":\"p1916\",\"attributes\":{\"months\":[0,1,2,3,4,5,6,7,8,9,10,11]}},{\"type\":\"object\",\"name\":\"MonthsTicker\",\"id\":\"p1917\",\"attributes\":{\"months\":[0,2,4,6,8,10]}},{\"type\":\"object\",\"name\":\"MonthsTicker\",\"id\":\"p1918\",\"attributes\":{\"months\":[0,4,8]}},{\"type\":\"object\",\"name\":\"MonthsTicker\",\"id\":\"p1919\",\"attributes\":{\"months\":[0,6]}},{\"type\":\"object\",\"name\":\"YearsTicker\",\"id\":\"p1920\"}]}},\"formatter\":{\"type\":\"object\",\"name\":\"DatetimeTickFormatter\",\"id\":\"p1921\"},\"axis_label\":\"date\",\"major_label_policy\":{\"type\":\"object\",\"name\":\"AllLabels\",\"id\":\"p1922\"}}}],\"center\":[{\"type\":\"object\",\"name\":\"Grid\",\"id\":\"p1923\",\"attributes\":{\"axis\":{\"id\":\"p1907\"}}},{\"type\":\"object\",\"name\":\"Grid\",\"id\":\"p1928\",\"attributes\":{\"dimension\":1,\"axis\":{\"id\":\"p1924\"}}},{\"type\":\"object\",\"name\":\"Legend\",\"id\":\"p1951\",\"attributes\":{\"items\":[{\"type\":\"object\",\"name\":\"LegendItem\",\"id\":\"p1952\",\"attributes\":{\"label\":{\"type\":\"value\",\"value\":\"Sales prices\"},\"renderers\":[{\"id\":\"p1948\"}]}},{\"type\":\"object\",\"name\":\"LegendItem\",\"id\":\"p1962\",\"attributes\":{\"label\":{\"type\":\"value\",\"value\":\"Sales volume\"},\"renderers\":[{\"id\":\"p1959\"}]}}]}}]}}]}}]}};\n  const render_items = [{\"docid\":\"8972f3eb-ae6c-42a8-9a39-f4d8bff83a58\",\"roots\":{\"p1963\":\"a9556798-2e5b-418a-b04a-2c1b2df440c7\"},\"root_ids\":[\"p1963\"]}];\n  void root.Bokeh.embed.embed_items_notebook(docs_json, render_items);\n  }\n  if (root.Bokeh !== undefined) {\n    embed_document(root);\n  } else {\n    let attempts = 0;\n    const timer = setInterval(function(root) {\n      if (root.Bokeh !== undefined) {\n        clearInterval(timer);\n        embed_document(root);\n      } else {\n        attempts++;\n        if (attempts > 100) {\n          clearInterval(timer);\n          console.log(\"Bokeh: ERROR: Unable to run BokehJS code because BokehJS library is missing\");\n        }\n      }\n    }, 10, root)\n  }\n})(window);",
      "application/vnd.bokehjs_exec.v0+json": ""
     },
     "metadata": {
      "application/vnd.bokehjs_exec.v0+json": {
       "id": "p1963"
      }
     },
     "output_type": "display_data"
    }
   ],
   "source": [
    "output_notebook()\n",
    "\n",
    "def plot_sales_all(df):\n",
    "    grouped_by_transaction = df.groupby(pd.Grouper(key=\"datetime\", freq='1D'))[\"Amount (Merchant Currency)\"].sum().reset_index()\n",
    "    grouped_by_count = df.groupby(pd.Grouper(key=\"datetime\", freq='1D')).count().reset_index()\n",
    "    p = figure(title=\"Simple line example\",x_axis_type=\"datetime\", x_axis_label='date', y_axis_label='sales')\n",
    "    p.line(grouped_by_transaction[\"datetime\"], grouped_by_transaction[\"Amount (Merchant Currency)\"], legend_label=\"Sales prices\", line_width=2)\n",
    "    p.line(grouped_by_count[\"datetime\"], grouped_by_count[\"Amount (Merchant Currency)\"], legend_label=\"Sales volume\", line_width=2, color=\"red\")\n",
    "    # show(p)\n",
    "    return p\n",
    "\n",
    "def plot_sales_filtered(df):\n",
    "    filtered_df = df[df[\"Sku Id\"] == \"premium\"]\n",
    "    grouped_by_transaction = filtered_df.groupby(pd.Grouper(key=\"datetime\", freq='1D'))[\"Amount (Merchant Currency)\"].sum().reset_index()\n",
    "    grouped_by_count = filtered_df.groupby(pd.Grouper(key=\"datetime\", freq='1D')).count().reset_index()\n",
    "    p = figure(title=\"Premium\",x_axis_type=\"datetime\", x_axis_label='date', y_axis_label='sales')\n",
    "    p.line(grouped_by_transaction[\"datetime\"], grouped_by_transaction[\"Amount (Merchant Currency)\"], legend_label=\"Sales prices\", line_width=2)\n",
    "    p.line(grouped_by_count[\"datetime\"], grouped_by_count[\"Amount (Merchant Currency)\"], legend_label=\"Sales volume\", line_width=2, color=\"red\")\n",
    "    # show(p)\n",
    "    return p\n",
    "\n",
    "layout = row(plot_sales_all(cleaned_df.copy()), plot_sales_filtered(cleaned_df.copy()))  # Stacks vertically\n",
    "show(layout)"
   ]
  },
  {
   "cell_type": "code",
   "execution_count": null,
   "metadata": {},
   "outputs": [
    {
     "data": {
      "text/html": [
       "    <style>\n",
       "        .bk-notebook-logo {\n",
       "            display: block;\n",
       "            width: 20px;\n",
       "            height: 20px;\n",
       "            background-image: url(data:image/png;base64,iVBORw0KGgoAAAANSUhEUgAAABQAAAAUCAYAAACNiR0NAAAABHNCSVQICAgIfAhkiAAAAAlwSFlzAAALEgAACxIB0t1+/AAAABx0RVh0U29mdHdhcmUAQWRvYmUgRmlyZXdvcmtzIENTNui8sowAAAOkSURBVDiNjZRtaJVlGMd/1/08zzln5zjP1LWcU9N0NkN8m2CYjpgQYQXqSs0I84OLIC0hkEKoPtiH3gmKoiJDU7QpLgoLjLIQCpEsNJ1vqUOdO7ppbuec5+V+rj4ctwzd8IIbbi6u+8f1539dt3A78eXC7QizUF7gyV1fD1Yqg4JWz84yffhm0qkFqBogB9rM8tZdtwVsPUhWhGcFJngGeWrPzHm5oaMmkfEg1usvLFyc8jLRqDOMru7AyC8saQr7GG7f5fvDeH7Ej8CM66nIF+8yngt6HWaKh7k49Soy9nXurCi1o3qUbS3zWfrYeQDTB/Qj6kX6Ybhw4B+bOYoLKCC9H3Nu/leUTZ1JdRWkkn2ldcCamzrcf47KKXdAJllSlxAOkRgyHsGC/zRday5Qld9DyoM4/q/rUoy/CXh3jzOu3bHUVZeU+DEn8FInkPBFlu3+nW3Nw0mk6vCDiWg8CeJaxEwuHS3+z5RgY+YBR6V1Z1nxSOfoaPa4LASWxxdNp+VWTk7+4vzaou8v8PN+xo+KY2xsw6une2frhw05CTYOmQvsEhjhWjn0bmXPjpE1+kplmmkP3suftwTubK9Vq22qKmrBhpY4jvd5afdRA3wGjFAgcnTK2s4hY0/GPNIb0nErGMCRxWOOX64Z8RAC4oCXdklmEvcL8o0BfkNK4lUg9HTl+oPlQxdNo3Mg4Nv175e/1LDGzZen30MEjRUtmXSfiTVu1kK8W4txyV6BMKlbgk3lMwYCiusNy9fVfvvwMxv8Ynl6vxoByANLTWplvuj/nF9m2+PDtt1eiHPBr1oIfhCChQMBw6Aw0UulqTKZdfVvfG7VcfIqLG9bcldL/+pdWTLxLUy8Qq38heUIjh4XlzZxzQm19lLFlr8vdQ97rjZVOLf8nclzckbcD4wxXMidpX30sFd37Fv/GtwwhzhxGVAprjbg0gCAEeIgwCZyTV2Z1REEW8O4py0wsjeloKoMr6iCY6dP92H6Vw/oTyICIthibxjm/DfN9lVz8IqtqKYLUXfoKVMVQVVJOElGjrnnUt9T9wbgp8AyYKaGlqingHZU/uG2NTZSVqwHQTWkx9hxjkpWDaCg6Ckj5qebgBVbT3V3NNXMSiWSDdGV3hrtzla7J+duwPOToIg42ChPQOQjspnSlp1V+Gjdged7+8UN5CRAV7a5EdFNwCjEaBR27b3W890TE7g24NAP/mMDXRWrGoFPQI9ls/MWO2dWFAar/xcOIImbbpA3zgAAAABJRU5ErkJggg==);\n",
       "        }\n",
       "    </style>\n",
       "    <div>\n",
       "        <a href=\"https://bokeh.org\" target=\"_blank\" class=\"bk-notebook-logo\"></a>\n",
       "        <span id=\"ab257b9a-ed35-48f3-b544-da8abf4e3145\">Loading BokehJS ...</span>\n",
       "    </div>\n"
      ]
     },
     "metadata": {},
     "output_type": "display_data"
    },
    {
     "data": {
      "application/javascript": "'use strict';\n(function(root) {\n  function now() {\n    return new Date();\n  }\n\n  const force = true;\n\n  if (typeof root._bokeh_onload_callbacks === \"undefined\" || force === true) {\n    root._bokeh_onload_callbacks = [];\n    root._bokeh_is_loading = undefined;\n  }\n\nconst JS_MIME_TYPE = 'application/javascript';\n  const HTML_MIME_TYPE = 'text/html';\n  const EXEC_MIME_TYPE = 'application/vnd.bokehjs_exec.v0+json';\n  const CLASS_NAME = 'output_bokeh rendered_html';\n\n  /**\n   * Render data to the DOM node\n   */\n  function render(props, node) {\n    const script = document.createElement(\"script\");\n    node.appendChild(script);\n  }\n\n  /**\n   * Handle when an output is cleared or removed\n   */\n  function handleClearOutput(event, handle) {\n    function drop(id) {\n      const view = Bokeh.index.get_by_id(id)\n      if (view != null) {\n        view.model.document.clear()\n        Bokeh.index.delete(view)\n      }\n    }\n\n    const cell = handle.cell;\n\n    const id = cell.output_area._bokeh_element_id;\n    const server_id = cell.output_area._bokeh_server_id;\n\n    // Clean up Bokeh references\n    if (id != null) {\n      drop(id)\n    }\n\n    if (server_id !== undefined) {\n      // Clean up Bokeh references\n      const cmd_clean = \"from bokeh.io.state import curstate; print(curstate().uuid_to_server['\" + server_id + \"'].get_sessions()[0].document.roots[0]._id)\";\n      cell.notebook.kernel.execute(cmd_clean, {\n        iopub: {\n          output: function(msg) {\n            const id = msg.content.text.trim()\n            drop(id)\n          }\n        }\n      });\n      // Destroy server and session\n      const cmd_destroy = \"import bokeh.io.notebook as ion; ion.destroy_server('\" + server_id + \"')\";\n      cell.notebook.kernel.execute(cmd_destroy);\n    }\n  }\n\n  /**\n   * Handle when a new output is added\n   */\n  function handleAddOutput(event, handle) {\n    const output_area = handle.output_area;\n    const output = handle.output;\n\n    // limit handleAddOutput to display_data with EXEC_MIME_TYPE content only\n    if ((output.output_type != \"display_data\") || (!Object.prototype.hasOwnProperty.call(output.data, EXEC_MIME_TYPE))) {\n      return\n    }\n\n    const toinsert = output_area.element.find(\".\" + CLASS_NAME.split(' ')[0]);\n\n    if (output.metadata[EXEC_MIME_TYPE][\"id\"] !== undefined) {\n      toinsert[toinsert.length - 1].firstChild.textContent = output.data[JS_MIME_TYPE];\n      // store reference to embed id on output_area\n      output_area._bokeh_element_id = output.metadata[EXEC_MIME_TYPE][\"id\"];\n    }\n    if (output.metadata[EXEC_MIME_TYPE][\"server_id\"] !== undefined) {\n      const bk_div = document.createElement(\"div\");\n      bk_div.innerHTML = output.data[HTML_MIME_TYPE];\n      const script_attrs = bk_div.children[0].attributes;\n      for (let i = 0; i < script_attrs.length; i++) {\n        toinsert[toinsert.length - 1].firstChild.setAttribute(script_attrs[i].name, script_attrs[i].value);\n        toinsert[toinsert.length - 1].firstChild.textContent = bk_div.children[0].textContent\n      }\n      // store reference to server id on output_area\n      output_area._bokeh_server_id = output.metadata[EXEC_MIME_TYPE][\"server_id\"];\n    }\n  }\n\n  function register_renderer(events, OutputArea) {\n\n    function append_mime(data, metadata, element) {\n      // create a DOM node to render to\n      const toinsert = this.create_output_subarea(\n        metadata,\n        CLASS_NAME,\n        EXEC_MIME_TYPE\n      );\n      this.keyboard_manager.register_events(toinsert);\n      // Render to node\n      const props = {data: data, metadata: metadata[EXEC_MIME_TYPE]};\n      render(props, toinsert[toinsert.length - 1]);\n      element.append(toinsert);\n      return toinsert\n    }\n\n    /* Handle when an output is cleared or removed */\n    events.on('clear_output.CodeCell', handleClearOutput);\n    events.on('delete.Cell', handleClearOutput);\n\n    /* Handle when a new output is added */\n    events.on('output_added.OutputArea', handleAddOutput);\n\n    /**\n     * Register the mime type and append_mime function with output_area\n     */\n    OutputArea.prototype.register_mime_type(EXEC_MIME_TYPE, append_mime, {\n      /* Is output safe? */\n      safe: true,\n      /* Index of renderer in `output_area.display_order` */\n      index: 0\n    });\n  }\n\n  // register the mime type if in Jupyter Notebook environment and previously unregistered\n  if (root.Jupyter !== undefined) {\n    const events = require('base/js/events');\n    const OutputArea = require('notebook/js/outputarea').OutputArea;\n\n    if (OutputArea.prototype.mime_types().indexOf(EXEC_MIME_TYPE) == -1) {\n      register_renderer(events, OutputArea);\n    }\n  }\n  if (typeof (root._bokeh_timeout) === \"undefined\" || force === true) {\n    root._bokeh_timeout = Date.now() + 5000;\n    root._bokeh_failed_load = false;\n  }\n\n  const NB_LOAD_WARNING = {'data': {'text/html':\n     \"<div style='background-color: #fdd'>\\n\"+\n     \"<p>\\n\"+\n     \"BokehJS does not appear to have successfully loaded. If loading BokehJS from CDN, this \\n\"+\n     \"may be due to a slow or bad network connection. Possible fixes:\\n\"+\n     \"</p>\\n\"+\n     \"<ul>\\n\"+\n     \"<li>re-rerun `output_notebook()` to attempt to load from CDN again, or</li>\\n\"+\n     \"<li>use INLINE resources instead, as so:</li>\\n\"+\n     \"</ul>\\n\"+\n     \"<code>\\n\"+\n     \"from bokeh.resources import INLINE\\n\"+\n     \"output_notebook(resources=INLINE)\\n\"+\n     \"</code>\\n\"+\n     \"</div>\"}};\n\n  function display_loaded(error = null) {\n    const el = document.getElementById(\"ab257b9a-ed35-48f3-b544-da8abf4e3145\");\n    if (el != null) {\n      const html = (() => {\n        if (typeof root.Bokeh === \"undefined\") {\n          if (error == null) {\n            return \"BokehJS is loading ...\";\n          } else {\n            return \"BokehJS failed to load.\";\n          }\n        } else {\n          const prefix = `BokehJS ${root.Bokeh.version}`;\n          if (error == null) {\n            return `${prefix} successfully loaded.`;\n          } else {\n            return `${prefix} <b>encountered errors</b> while loading and may not function as expected.`;\n          }\n        }\n      })();\n      el.innerHTML = html;\n\n      if (error != null) {\n        const wrapper = document.createElement(\"div\");\n        wrapper.style.overflow = \"auto\";\n        wrapper.style.height = \"5em\";\n        wrapper.style.resize = \"vertical\";\n        const content = document.createElement(\"div\");\n        content.style.fontFamily = \"monospace\";\n        content.style.whiteSpace = \"pre-wrap\";\n        content.style.backgroundColor = \"rgb(255, 221, 221)\";\n        content.textContent = error.stack ?? error.toString();\n        wrapper.append(content);\n        el.append(wrapper);\n      }\n    } else if (Date.now() < root._bokeh_timeout) {\n      setTimeout(() => display_loaded(error), 100);\n    }\n  }\n\n  function run_callbacks() {\n    try {\n      root._bokeh_onload_callbacks.forEach(function(callback) {\n        if (callback != null)\n          callback();\n      });\n    } finally {\n      delete root._bokeh_onload_callbacks\n    }\n    console.debug(\"Bokeh: all callbacks have finished\");\n  }\n\n  function load_libs(css_urls, js_urls, callback) {\n    if (css_urls == null) css_urls = [];\n    if (js_urls == null) js_urls = [];\n\n    root._bokeh_onload_callbacks.push(callback);\n    if (root._bokeh_is_loading > 0) {\n      console.debug(\"Bokeh: BokehJS is being loaded, scheduling callback at\", now());\n      return null;\n    }\n    if (js_urls == null || js_urls.length === 0) {\n      run_callbacks();\n      return null;\n    }\n    console.debug(\"Bokeh: BokehJS not loaded, scheduling load and callback at\", now());\n    root._bokeh_is_loading = css_urls.length + js_urls.length;\n\n    function on_load() {\n      root._bokeh_is_loading--;\n      if (root._bokeh_is_loading === 0) {\n        console.debug(\"Bokeh: all BokehJS libraries/stylesheets loaded\");\n        run_callbacks()\n      }\n    }\n\n    function on_error(url) {\n      console.error(\"failed to load \" + url);\n    }\n\n    for (let i = 0; i < css_urls.length; i++) {\n      const url = css_urls[i];\n      const element = document.createElement(\"link\");\n      element.onload = on_load;\n      element.onerror = on_error.bind(null, url);\n      element.rel = \"stylesheet\";\n      element.type = \"text/css\";\n      element.href = url;\n      console.debug(\"Bokeh: injecting link tag for BokehJS stylesheet: \", url);\n      document.body.appendChild(element);\n    }\n\n    for (let i = 0; i < js_urls.length; i++) {\n      const url = js_urls[i];\n      const element = document.createElement('script');\n      element.onload = on_load;\n      element.onerror = on_error.bind(null, url);\n      element.async = false;\n      element.src = url;\n      console.debug(\"Bokeh: injecting script tag for BokehJS library: \", url);\n      document.head.appendChild(element);\n    }\n  };\n\n  function inject_raw_css(css) {\n    const element = document.createElement(\"style\");\n    element.appendChild(document.createTextNode(css));\n    document.body.appendChild(element);\n  }\n\n  const js_urls = [\"https://cdn.bokeh.org/bokeh/release/bokeh-3.6.3.min.js\", \"https://cdn.bokeh.org/bokeh/release/bokeh-gl-3.6.3.min.js\", \"https://cdn.bokeh.org/bokeh/release/bokeh-widgets-3.6.3.min.js\", \"https://cdn.bokeh.org/bokeh/release/bokeh-tables-3.6.3.min.js\", \"https://cdn.bokeh.org/bokeh/release/bokeh-mathjax-3.6.3.min.js\"];\n  const css_urls = [];\n\n  const inline_js = [    function(Bokeh) {\n      Bokeh.set_log_level(\"info\");\n    },\nfunction(Bokeh) {\n    }\n  ];\n\n  function run_inline_js() {\n    if (root.Bokeh !== undefined || force === true) {\n      try {\n            for (let i = 0; i < inline_js.length; i++) {\n      inline_js[i].call(root, root.Bokeh);\n    }\n\n      } catch (error) {display_loaded(error);throw error;\n      }if (force === true) {\n        display_loaded();\n      }} else if (Date.now() < root._bokeh_timeout) {\n      setTimeout(run_inline_js, 100);\n    } else if (!root._bokeh_failed_load) {\n      console.log(\"Bokeh: BokehJS failed to load within specified timeout.\");\n      root._bokeh_failed_load = true;\n    } else if (force !== true) {\n      const cell = $(document.getElementById(\"ab257b9a-ed35-48f3-b544-da8abf4e3145\")).parents('.cell').data().cell;\n      cell.output_area.append_execute_result(NB_LOAD_WARNING)\n    }\n  }\n\n  if (root._bokeh_is_loading === 0) {\n    console.debug(\"Bokeh: BokehJS loaded, going straight to plotting\");\n    run_inline_js();\n  } else {\n    load_libs(css_urls, js_urls, function() {\n      console.debug(\"Bokeh: BokehJS plotting callback run at\", now());\n      run_inline_js();\n    });\n  }\n}(window));",
      "application/vnd.bokehjs_load.v0+json": ""
     },
     "metadata": {},
     "output_type": "display_data"
    },
    {
     "data": {
      "text/html": [
       "\n",
       "  <div id=\"ab15b2e8-daee-439d-bf9a-336c3ff58345\" data-root-id=\"p1820\" style=\"display: contents;\"></div>\n"
      ]
     },
     "metadata": {},
     "output_type": "display_data"
    },
    {
     "data": {
      "application/javascript": "(function(root) {\n  function embed_document(root) {\n  const docs_json = {\"3115c50c-4981-45ad-8b57-67ea18a2e3da\":{\"version\":\"3.6.3\",\"title\":\"Bokeh Application\",\"roots\":[{\"type\":\"object\",\"name\":\"Column\",\"id\":\"p1820\",\"attributes\":{\"children\":[{\"type\":\"object\",\"name\":\"Row\",\"id\":\"p1819\",\"attributes\":{\"children\":[{\"type\":\"object\",\"name\":\"Select\",\"id\":\"p1816\",\"attributes\":{\"js_property_callbacks\":{\"type\":\"map\",\"entries\":[[\"change:value\",[{\"type\":\"object\",\"name\":\"CustomJS\",\"id\":\"p1818\",\"attributes\":{\"args\":{\"type\":\"map\",\"entries\":[[\"premium_line\",{\"type\":\"object\",\"name\":\"GlyphRenderer\",\"id\":\"p1801\",\"attributes\":{\"data_source\":{\"type\":\"object\",\"name\":\"ColumnDataSource\",\"id\":\"p1742\",\"attributes\":{\"selected\":{\"type\":\"object\",\"name\":\"Selection\",\"id\":\"p1743\",\"attributes\":{\"indices\":[],\"line_indices\":[]}},\"selection_policy\":{\"type\":\"object\",\"name\":\"UnionRenderers\",\"id\":\"p1744\"},\"data\":{\"type\":\"map\",\"entries\":[[\"date\",{\"type\":\"ndarray\",\"array\":{\"type\":\"bytes\",\"data\":\"AABA602cd0IAAABRoJx3QgAAwLbynHdCAACAHEWdd0IAAECCl513QgAAAOjpnXdCAADATTyed0IAAICzjp53QgAAQBnhnndCAAAAfzOfd0IAAMDkhZ93QgAAgErYn3dCAABAsCqgd0IAAAAWfaB3QgAAwHvPoHdCAACA4SGhd0IAAEBHdKF3QgAAAK3GoXdCAADAEhmid0IAAIB4a6J3QgAAQN69ondCAAAARBCjd0IAAMCpYqN3QgAAgA+1o3dCAABAdQekd0IAAADbWaR3QgAAwECspHdCAACApv6kd0IAAEAMUaV3QgAAAHKjpXdCAADA1/Wld0IAAIA9SKZ3QgAAQKOapndCAAAACe2md0IAAMBuP6d3QgAAgNSRp3dCAABAOuSnd0IAAACgNqh3QgAAwAWJqHdCAACAa9uod0IAAEDRLal3QgAAADeAqXdCAADAnNKpd0IAAIACJap3QgAAQGh3qndCAAAAzsmqd0IAAMAzHKt3QgAAgJluq3dCAABA/8Crd0IAAABlE6x3QgAAwMplrHdCAACAMLisd0IAAECWCq13QgAAAPxcrXdCAADAYa+td0IAAIDHAa53QgAAQC1UrndCAAAAk6aud0IAAMD4+K53QgAAgF5Lr3dCAABAxJ2vd0IAAAAq8K93QgAAwI9CsHdCAACA9ZSwd0IAAEBb57B3QgAAAME5sXdCAADAJoyxd0IAAICM3rF3QgAAQPIwsndCAAAAWIOyd0IAAMC91bJ3QgAAgCMos3dCAABAiXqzd0IAAADvzLN3QgAAwFQftHdCAACAunG0d0IAAEAgxLR3QgAAAIYWtXdCAADA62i1d0IAAIBRu7V3QgAAQLcNtndCAAAAHWC2d0IAAMCCsrZ3QgAAgOgEt3dCAABATle3d0IAAAC0qbd3QgAAwBn8t3dCAACAf064d0IAAEDloLh3QgAAAEvzuHdCAADAsEW5d0IAAIAWmLl3QgAAQHzquXdCAAAA4jy6d0IAAMBHj7p3QgAAgK3hundCAABAEzS7d0IAAAB5hrt3QgAAwN7Yu3dCAACARCu8d0IAAECqfbx3QgAAABDQvHdCAADAdSK9d0IAAIDbdL13QgAAQEHHvXdCAAAApxm+d0IAAMAMbL53QgAAgHK+vndCAABA2BC/d0IAAAA+Y793QgAAwKO1v3dCAACACQjAd0IAAEBvWsB3QgAAANWswHdCAADAOv/Ad0IAAICgUcF3QgAAQAakwXdCAAAAbPbBd0IAAMDRSMJ3QgAAgDebwndCAABAne3Cd0IAAAADQMN3QgAAwGiSw3dCAACAzuTDd0IAAEA0N8R3QgAAAJqJxHdCAADA/9vEd0IAAIBlLsV3QgAAQMuAxXdCAAAAMdPFd0IAAMCWJcZ3QgAAgPx3xndCAABAYsrGd0IAAADIHMd3QgAAwC1vx3dCAACAk8HHd0IAAED5E8h3QgAAAF9myHdCAADAxLjId0IAAIAqC8l3QgAAQJBdyXdCAAAA9q/Jd0IAAMBbAsp3QgAAgMFUyndCAABAJ6fKd0IAAACN+cp3QgAAwPJLy3dCAACAWJ7Ld0IAAEC+8Mt3QgAAACRDzHdCAADAiZXMd0IAAIDv58x3QgAAQFU6zXdC\"},\"shape\":[153],\"dtype\":\"float64\",\"order\":\"little\"}],[\"sum\",{\"type\":\"ndarray\",\"array\":{\"type\":\"bytes\",\"data\":\"AAAAAAAAAEB7FK5H4fojQB6F61G4HhhACtejcD0KH0AAAAAAAAAAACCF61G4HihAFa5H4XoUGEAAAAAAAAD8PwrXo3A9ChBAFa5H4XoUAEAUrkfhehQXQP///////x5AUrgehetRIECZmZmZmRkkQB6F61G4HihAKVyPwvUoIECamZmZmZkYQKRwPQrXoxhASOF6FK5HFkDC9Shcj8IUQKVwPQrXox9AcT0K16NwJEApXI/C9SgXQHsUrkfh+idAUrgehetREEB7FK5H4XoYQEjhehSuRxlAfBSuR+F6JEBnZmZmZmYAQK5H4XoUrhhAPgrXo3A9L0CF61G4HgUkQDMzMzMzsyhAkML1KFyPJ0DC9Shcj8ISQBWuR+F6FBRAhetRuB6FHkCkcD0K16McQFyPwvUoXBRArkfhehQuKUAAAAAAAIAsQAAAAAAAAB5AKVyPwvWoJ0AqXI/C9SgeQKRwPQrXIylAkML1KFyPHED2KFyPwjU0QArXo3A9iidAHoXrUbgeEkA+CtejcD0eQFyPwvUoXChAkML1KFyPHkDNzMzMzMwcQEjhehSuRyNAkML1KFyPHEAAAAAAAAAAAJqZmZmZGSlAKlyPwvUoHkCamZmZmZkcQD4K16NwPS1AAAAAAAAAKUA+CtejcL0iQFyPwvUoXCxApHA9CtejHECuR+F6FK4SQLgehetRuBJAcT0K16NwHEBI4XoUrscsQOxRuB6F6yxAPgrXo3A9BEBcj8L1KNwtQD4K16NwPQRAexSuR+F6I0A0MzMzMzMUQArXo3A9Ci1AMzMzMzMzKUD2KFyPwjU1QHoUrkfhehRAUrgehetRFEBcj8L1KFwdQIXrUbgehSdA4noUrkfhHECamZmZmZksQF2PwvUoXB5AXY/C9ShcHkCG61G4HoUoQJqZmZmZGSVAhetRuB4FNEDhehSuR2EoQClcj8L1KBRAPgrXo3A9HkBSuB6F61ESQEjhehSuxytAAAAAAAAAKUB7FK5H4fojQEjhehSuRx5AzczMzMxMKEAAAAAAAAAeQGZmZmZmZgJAIIXrUbgeHkCamZmZmRkpQEjhehSuRxRAFa5H4XoUJEAVrkfhehQUQAAAAAAAAAAAAAAAAAAAAAAVrkfhehQEQM7MzMzMTClAw/UoXI/CEkDXo3A9ClcxQFK4HoXrURRAUrgehetRBECkcD0K16MAQFyPwvUoXBRAcT0K16NwHkDhehSuR+EwQGZmZmZmZilAehSuR+F6FEBnZmZmZmYEQMP1KFyPwhxACtejcD0KAUDhehSuR+EsQHoUrkfhehRAehSuR+F6FEC4HoXrUbgkQHoUrkfhegRAehSuR+F6BECPwvUoXI8UQBSuR+F6lCNAFK5H4XoUHUDWo3A9CtceQI/C9ShcDyJA16NwPQqXMUCPwvUoXI8kQMzMzMzMzBJAehSuR+F6JEAAAAAAAAAAANajcD0K1zZAehSuR+F6FEAehetRuJ4oQD0K16NwPRxAZmZmZmZmBEAAAAAAAAAAAHoUrkfhehNA4XoUrkfhHUBmZmZmZmYUQFyPwvUo3C1AcD0K16NwEkDC9Shcj8ITQMzMzMzMzBxAZmZmZmZmBEDC9Shcj8ISQI/C9ShcjwRA\"},\"shape\":[153],\"dtype\":\"float64\",\"order\":\"little\"}],[\"count\",{\"type\":\"ndarray\",\"array\":{\"type\":\"bytes\",\"data\":\"AQAAAAUAAAADAAAABAAAAAAAAAAGAAAAAwAAAAEAAAACAAAAAQAAAAMAAAAEAAAABAAAAAUAAAAGAAAABAAAAAMAAAADAAAAAwAAAAMAAAAEAAAABQAAAAMAAAAGAAAAAgAAAAMAAAADAAAABQAAAAEAAAADAAAABwAAAAQAAAAFAAAABQAAAAIAAAACAAAAAwAAAAMAAAACAAAABQAAAAYAAAADAAAABQAAAAMAAAAFAAAAAwAAAAgAAAAFAAAAAgAAAAMAAAAFAAAAAwAAAAMAAAAEAAAAAwAAAAAAAAAFAAAAAwAAAAMAAAAGAAAABQAAAAQAAAAGAAAAAwAAAAIAAAACAAAAAwAAAAYAAAAGAAAAAgAAAAYAAAABAAAABAAAAAIAAAAGAAAABQAAAAkAAAACAAAAAgAAAAMAAAAFAAAAAwAAAAYAAAADAAAAAwAAAAUAAAAEAAAACAAAAAUAAAACAAAAAwAAAAIAAAAGAAAABQAAAAQAAAADAAAABQAAAAMAAAABAAAAAwAAAAUAAAACAAAABAAAAAIAAAAAAAAAAAAAAAEAAAAFAAAAAgAAAAcAAAACAAAAAQAAAAEAAAACAAAAAwAAAAcAAAAFAAAAAgAAAAEAAAADAAAAAQAAAAYAAAACAAAAAgAAAAQAAAABAAAAAQAAAAIAAAAEAAAAAwAAAAMAAAAEAAAABwAAAAQAAAACAAAABAAAAAAAAAAJAAAAAgAAAAUAAAADAAAAAQAAAAAAAAACAAAAAwAAAAIAAAAGAAAAAgAAAAIAAAADAAAAAQAAAAIAAAABAAAA\"},\"shape\":[153],\"dtype\":\"int32\",\"order\":\"little\"}]]}}},\"view\":{\"type\":\"object\",\"name\":\"CDSView\",\"id\":\"p1802\",\"attributes\":{\"filter\":{\"type\":\"object\",\"name\":\"AllIndices\",\"id\":\"p1803\"}}},\"glyph\":{\"type\":\"object\",\"name\":\"Line\",\"id\":\"p1798\",\"attributes\":{\"x\":{\"type\":\"field\",\"field\":\"date\"},\"y\":{\"type\":\"field\",\"field\":\"sum\"},\"line_color\":\"blue\"}},\"nonselection_glyph\":{\"type\":\"object\",\"name\":\"Line\",\"id\":\"p1799\",\"attributes\":{\"x\":{\"type\":\"field\",\"field\":\"date\"},\"y\":{\"type\":\"field\",\"field\":\"sum\"},\"line_color\":\"blue\",\"line_alpha\":0.1}},\"muted_glyph\":{\"type\":\"object\",\"name\":\"Line\",\"id\":\"p1800\",\"attributes\":{\"x\":{\"type\":\"field\",\"field\":\"date\"},\"y\":{\"type\":\"field\",\"field\":\"sum\"},\"line_color\":\"blue\",\"line_alpha\":0.2}}}}],[\"unlock_line\",{\"type\":\"object\",\"name\":\"GlyphRenderer\",\"id\":\"p1812\",\"attributes\":{\"data_source\":{\"type\":\"object\",\"name\":\"ColumnDataSource\",\"id\":\"p1745\",\"attributes\":{\"selected\":{\"type\":\"object\",\"name\":\"Selection\",\"id\":\"p1746\",\"attributes\":{\"indices\":[],\"line_indices\":[]}},\"selection_policy\":{\"type\":\"object\",\"name\":\"UnionRenderers\",\"id\":\"p1747\"},\"data\":{\"type\":\"map\",\"entries\":[[\"date\",{\"type\":\"ndarray\",\"array\":{\"type\":\"bytes\",\"data\":\"AABA602cd0IAAABRoJx3QgAAwLbynHdCAACAHEWdd0IAAECCl513QgAAAOjpnXdCAADATTyed0IAAICzjp53QgAAQBnhnndCAAAAfzOfd0IAAMDkhZ93QgAAgErYn3dCAABAsCqgd0IAAAAWfaB3QgAAwHvPoHdCAACA4SGhd0IAAEBHdKF3QgAAAK3GoXdCAADAEhmid0IAAIB4a6J3QgAAQN69ondCAAAARBCjd0IAAMCpYqN3QgAAgA+1o3dCAABAdQekd0IAAADbWaR3QgAAwECspHdCAACApv6kd0IAAEAMUaV3QgAAAHKjpXdCAADA1/Wld0IAAIA9SKZ3QgAAQKOapndCAAAACe2md0IAAMBuP6d3QgAAgNSRp3dCAABAOuSnd0IAAACgNqh3QgAAwAWJqHdCAACAa9uod0IAAEDRLal3QgAAADeAqXdCAADAnNKpd0IAAIACJap3QgAAQGh3qndCAAAAzsmqd0IAAMAzHKt3QgAAgJluq3dCAABA/8Crd0IAAABlE6x3QgAAwMplrHdCAACAMLisd0IAAECWCq13QgAAAPxcrXdCAADAYa+td0IAAIDHAa53QgAAQC1UrndCAAAAk6aud0IAAMD4+K53QgAAgF5Lr3dCAABAxJ2vd0IAAAAq8K93QgAAwI9CsHdCAACA9ZSwd0IAAEBb57B3QgAAAME5sXdCAADAJoyxd0IAAICM3rF3QgAAQPIwsndCAAAAWIOyd0IAAMC91bJ3QgAAgCMos3dCAABAiXqzd0IAAADvzLN3QgAAwFQftHdCAACAunG0d0IAAEAgxLR3QgAAAIYWtXdCAADA62i1d0IAAIBRu7V3QgAAQLcNtndCAAAAHWC2d0IAAMCCsrZ3QgAAgOgEt3dCAABATle3d0IAAAC0qbd3QgAAwBn8t3dCAACAf064d0IAAEDloLh3QgAAAEvzuHdCAADAsEW5d0IAAIAWmLl3QgAAQHzquXdCAAAA4jy6d0IAAMBHj7p3QgAAgK3hundCAABAEzS7d0IAAAB5hrt3QgAAwN7Yu3dCAACARCu8d0IAAECqfbx3QgAAABDQvHdCAADAdSK9d0IAAIDbdL13QgAAQEHHvXdCAAAApxm+d0IAAMAMbL53QgAAgHK+vndCAABA2BC/d0IAAAA+Y793QgAAwKO1v3dCAACACQjAd0IAAEBvWsB3QgAAANWswHdCAADAOv/Ad0IAAICgUcF3QgAAQAakwXdCAAAAbPbBd0IAAMDRSMJ3QgAAgDebwndCAABAne3Cd0IAAAADQMN3QgAAwGiSw3dCAACAzuTDd0IAAEA0N8R3QgAAAJqJxHdCAADA/9vEd0IAAIBlLsV3QgAAQMuAxXdCAAAAMdPFd0IAAMCWJcZ3QgAAgPx3xndCAABAYsrGd0IAAADIHMd3QgAAwC1vx3dCAACAk8HHd0IAAED5E8h3QgAAAF9myHdCAADAxLjId0IAAIAqC8l3QgAAQJBdyXdCAAAA9q/Jd0IAAMBbAsp3QgAAgMFUyndCAABAJ6fKd0IAAACN+cp3QgAAwPJLy3dCAACAWJ7Ld0IAAEC+8Mt3QgAAACRDzHdCAADAiZXMd0IAAIDv58x3QgAAQFU6zXdC\"},\"shape\":[153],\"dtype\":\"float64\",\"order\":\"little\"}],[\"sum\",{\"type\":\"ndarray\",\"array\":{\"type\":\"bytes\",\"data\":\"H4XrUbgeCUDhehSuR+EuQIXrUbgeBSNAcD0K16PwIkAyMzMzMzMZQMzMzMzMDDZAmZmZmZmZP0A8CtejcD0ZQDwK16NwPRlAAAAAAAAAAABI4XoUrsc0QFyPwvUoXClAMzMzMzMzNkBcj8L1KFwJQFyPwvUoXBlACtejcD2KKUDYo3A9ClcjQOxRuB6FayNAcT0K16NwM0ApXI/C9WgzQM7MzMzMzBlAFK5H4XrUNUAUrkfhepQyQPYoXI/CdTlAj8L1KFyPLkBSuB6F61EjQAAAAAAAAClA16NwPQoXOUDE9Shcj8IZQCpcj8L1KD1AhetRuB5FM0BI4XoUrkczQOtRuB6FqzdAuB6F61E4M0Bcj8L1KJw2QAAAAAAAgChAcD0K16NwL0CPwvUoXA80QAAAAAAAgCBApHA9CteDS0CkcD0K1yNHQOJ6FK5HITBAPQrXo3C9OkCuR+F6FK4lQOF6FK5HQUFAmpmZmZmZJkD2KFyPwvUmQF2PwvUoXD1AMzMzMzPzN0CF61G4HoULQD4K16NwvSdAzMzMzMzMJ0AUrkfhelQ3QEjhehSuxz5AwvUoXI/CLkApXI/C9agmQEfhehSuRzNAj8L1KFyPL0CQwvUoXI8yQFK4HoXrUT9ApHA9CtejN0CuR+F6FK4yQHsUrkfhei9ApHA9CtejLkBI4XoUrsc4QJmZmZmZmQ9A16NwPQrXM0ApXI/C9SgnQOF6FK5HoUFAAAAAAAAAAABSuB6F67FBQNajcD0K1w9A1qNwPQrXD0BI4XoUrscuQArXo3A9SkNAkML1KFxvRUBI4XoUroc9QB6F61G4Hh9A7FG4HoXrC0AAAAAAAAAoQOxRuB6F6y9A7FG4HoXrD0Bcj8L1KNw+QMzMzMzMzB1A4XoUrkfhM0BSuB6F69EnQLgehetRuB9AFa5H4XoUPUCkcD0K1+MyQF2PwvUonD9AFa5H4XoUOECvR+F6FK4vQDMzMzMzsydAKVyPwvWoN0DhehSuR6EzQHE9CtejcC9AXI/C9SjcQUCF61G4HoUfQArXo3A9ijNApHA9CtejLkAAAAAAAMAzQBSuR+F6FBFAzczMzMzMM0AAAAAAAAAzQNejcD0K1wtArkfhehSuLECvR+F6FK4PQArXo3A9ijRAhOtRuB4FP0DWo3A9CtcuQNajcD0KVz9A7FG4HoXrD0DWo3A9CtcfQPYoXI/C9SdAAAAAAAAAN0Bcj8L1KFw+QAAAAAAAIEZAMzMzMzNzN0A+CtejcH00QAAAAAAAACBASOF6FK4HOECamZmZmVk7QAAAAAAAAB5AH4XrUbgeIEBdj8L1KBw0QAAAAAAAAAAAAAAAAAAAAAApXI/C9SggQClcj8L1KDNAkML1KFyPGUCuR+F6FC44QB+F61G4HjBAuB6F61E4N0CPwvUoXM86QK5H4XoUrjNArkfhehQuKEBSuB6F65E7QIbrUbgeJUhAr0fhehSuN0CuR+F6FO4yQI/C9ShcDzBArkfhehQuJkCZmZmZmRkoQFK4HoXrUR9AUrgehetRNUDhehSuR6E6QD4K16NwPTxAhutRuB6FNEAfhetRuB4nQBWuR+F6FDRApHA9CtcjKEDNzMzMzAwwQClcj8L1KDBA\"},\"shape\":[153],\"dtype\":\"float64\",\"order\":\"little\"}],[\"count\",{\"type\":\"ndarray\",\"array\":{\"type\":\"bytes\",\"data\":\"AQAAAAUAAAADAAAAAwAAAAIAAAAHAAAACgAAAAIAAAACAAAAAAAAAAYAAAAEAAAABwAAAAEAAAACAAAABAAAAAMAAAADAAAABgAAAAYAAAACAAAABwAAAAYAAAAIAAAABQAAAAMAAAAEAAAACAAAAAIAAAAJAAAABQAAAAUAAAAGAAAABQAAAAYAAAADAAAABAAAAAUAAAACAAAADgAAAAwAAAAEAAAABwAAAAMAAAAJAAAAAwAAAAMAAAAIAAAABgAAAAEAAAADAAAAAwAAAAYAAAAIAAAABAAAAAMAAAAFAAAABAAAAAUAAAAIAAAABgAAAAUAAAAEAAAABAAAAAYAAAABAAAABQAAAAMAAAAJAAAAAAAAAAkAAAABAAAAAQAAAAQAAAAKAAAACwAAAAgAAAACAAAAAQAAAAMAAAAEAAAAAQAAAAgAAAACAAAABQAAAAMAAAACAAAABwAAAAUAAAAIAAAABgAAAAQAAAADAAAABgAAAAUAAAAEAAAACQAAAAIAAAAFAAAABAAAAAUAAAABAAAABQAAAAUAAAABAAAABAAAAAEAAAAFAAAACAAAAAQAAAAIAAAAAQAAAAIAAAADAAAABgAAAAgAAAALAAAABgAAAAUAAAACAAAABgAAAAcAAAACAAAAAgAAAAUAAAAAAAAAAAAAAAIAAAAFAAAAAgAAAAYAAAAEAAAABgAAAAcAAAAFAAAAAwAAAAcAAAAMAAAABgAAAAUAAAAEAAAAAwAAAAMAAAACAAAABQAAAAcAAAAHAAAABQAAAAMAAAAFAAAAAwAAAAQAAAAEAAAA\"},\"shape\":[153],\"dtype\":\"int32\",\"order\":\"little\"}]]}}},\"view\":{\"type\":\"object\",\"name\":\"CDSView\",\"id\":\"p1813\",\"attributes\":{\"filter\":{\"type\":\"object\",\"name\":\"AllIndices\",\"id\":\"p1814\"}}},\"glyph\":{\"type\":\"object\",\"name\":\"Line\",\"id\":\"p1809\",\"attributes\":{\"x\":{\"type\":\"field\",\"field\":\"date\"},\"y\":{\"type\":\"field\",\"field\":\"sum\"},\"line_color\":\"red\"}},\"nonselection_glyph\":{\"type\":\"object\",\"name\":\"Line\",\"id\":\"p1810\",\"attributes\":{\"x\":{\"type\":\"field\",\"field\":\"date\"},\"y\":{\"type\":\"field\",\"field\":\"sum\"},\"line_color\":\"red\",\"line_alpha\":0.1}},\"muted_glyph\":{\"type\":\"object\",\"name\":\"Line\",\"id\":\"p1811\",\"attributes\":{\"x\":{\"type\":\"field\",\"field\":\"date\"},\"y\":{\"type\":\"field\",\"field\":\"sum\"},\"line_color\":\"red\",\"line_alpha\":0.2}}}}],[\"premium_source\",{\"id\":\"p1742\"}],[\"unlock_source\",{\"id\":\"p1745\"}],[\"product_select\",{\"id\":\"p1816\"}],[\"metric_select\",{\"type\":\"object\",\"name\":\"Select\",\"id\":\"p1817\",\"attributes\":{\"js_property_callbacks\":{\"type\":\"map\",\"entries\":[[\"change:value\",[{\"id\":\"p1818\"}]]]},\"title\":\"Metric Type\",\"options\":[\"Revenue\",\"Count\"],\"value\":\"Revenue\"}}]]},\"code\":\"\\n    const product = product_select.value;\\n    const metric = metric_select.value;\\n    \\n    // Update y-values based on metric\\n    const field = metric === \\\"Revenue\\\" ? \\\"sum\\\" : \\\"count\\\";\\n    premium_line.glyph.y = {field: field};\\n    unlock_line.glyph.y = {field: field};\\n    \\n    // Update visibility based on product selection\\n    if (product === \\\"Both\\\") {\\n        premium_line.visible = true;\\n        unlock_line.visible = true;\\n    } else if (product === \\\"Premium Only\\\") {\\n        premium_line.visible = true;\\n        unlock_line.visible = false;\\n    } else {\\n        premium_line.visible = false;\\n        unlock_line.visible = true;\\n    }\\n\"}}]]]},\"title\":\"Product Type\",\"options\":[\"Both\",\"Premium Only\",\"Character Manager Only\"],\"value\":\"Both\"}},{\"id\":\"p1817\"}]}},{\"type\":\"object\",\"name\":\"Figure\",\"id\":\"p1748\",\"attributes\":{\"width\":800,\"height\":400,\"x_range\":{\"type\":\"object\",\"name\":\"DataRange1d\",\"id\":\"p1749\"},\"y_range\":{\"type\":\"object\",\"name\":\"DataRange1d\",\"id\":\"p1750\"},\"x_scale\":{\"type\":\"object\",\"name\":\"LinearScale\",\"id\":\"p1758\"},\"y_scale\":{\"type\":\"object\",\"name\":\"LinearScale\",\"id\":\"p1759\"},\"title\":{\"type\":\"object\",\"name\":\"Title\",\"id\":\"p1751\",\"attributes\":{\"text\":\"Product Revenue Analysis\"}},\"renderers\":[{\"id\":\"p1801\"},{\"id\":\"p1812\"}],\"toolbar\":{\"type\":\"object\",\"name\":\"Toolbar\",\"id\":\"p1757\",\"attributes\":{\"tools\":[{\"type\":\"object\",\"name\":\"PanTool\",\"id\":\"p1782\"},{\"type\":\"object\",\"name\":\"WheelZoomTool\",\"id\":\"p1783\",\"attributes\":{\"renderers\":\"auto\"}},{\"type\":\"object\",\"name\":\"BoxZoomTool\",\"id\":\"p1784\",\"attributes\":{\"overlay\":{\"type\":\"object\",\"name\":\"BoxAnnotation\",\"id\":\"p1785\",\"attributes\":{\"syncable\":false,\"line_color\":\"black\",\"line_alpha\":1.0,\"line_width\":2,\"line_dash\":[4,4],\"fill_color\":\"lightgrey\",\"fill_alpha\":0.5,\"level\":\"overlay\",\"visible\":false,\"left\":{\"type\":\"number\",\"value\":\"nan\"},\"right\":{\"type\":\"number\",\"value\":\"nan\"},\"top\":{\"type\":\"number\",\"value\":\"nan\"},\"bottom\":{\"type\":\"number\",\"value\":\"nan\"},\"left_units\":\"canvas\",\"right_units\":\"canvas\",\"top_units\":\"canvas\",\"bottom_units\":\"canvas\",\"handles\":{\"type\":\"object\",\"name\":\"BoxInteractionHandles\",\"id\":\"p1791\",\"attributes\":{\"all\":{\"type\":\"object\",\"name\":\"AreaVisuals\",\"id\":\"p1790\",\"attributes\":{\"fill_color\":\"white\",\"hover_fill_color\":\"lightgray\"}}}}}}}},{\"type\":\"object\",\"name\":\"SaveTool\",\"id\":\"p1792\"},{\"type\":\"object\",\"name\":\"ResetTool\",\"id\":\"p1793\"},{\"type\":\"object\",\"name\":\"HelpTool\",\"id\":\"p1794\"}]}},\"left\":[{\"type\":\"object\",\"name\":\"LinearAxis\",\"id\":\"p1777\",\"attributes\":{\"ticker\":{\"type\":\"object\",\"name\":\"BasicTicker\",\"id\":\"p1778\",\"attributes\":{\"mantissas\":[1,2,5]}},\"formatter\":{\"type\":\"object\",\"name\":\"BasicTickFormatter\",\"id\":\"p1779\"},\"axis_label\":\"Value\",\"major_label_policy\":{\"type\":\"object\",\"name\":\"AllLabels\",\"id\":\"p1780\"}}}],\"below\":[{\"type\":\"object\",\"name\":\"DatetimeAxis\",\"id\":\"p1760\",\"attributes\":{\"ticker\":{\"type\":\"object\",\"name\":\"DatetimeTicker\",\"id\":\"p1761\",\"attributes\":{\"num_minor_ticks\":5,\"tickers\":[{\"type\":\"object\",\"name\":\"AdaptiveTicker\",\"id\":\"p1762\",\"attributes\":{\"num_minor_ticks\":0,\"mantissas\":[1,2,5],\"max_interval\":500.0}},{\"type\":\"object\",\"name\":\"AdaptiveTicker\",\"id\":\"p1763\",\"attributes\":{\"num_minor_ticks\":0,\"base\":60,\"mantissas\":[1,2,5,10,15,20,30],\"min_interval\":1000.0,\"max_interval\":1800000.0}},{\"type\":\"object\",\"name\":\"AdaptiveTicker\",\"id\":\"p1764\",\"attributes\":{\"num_minor_ticks\":0,\"base\":24,\"mantissas\":[1,2,4,6,8,12],\"min_interval\":3600000.0,\"max_interval\":43200000.0}},{\"type\":\"object\",\"name\":\"DaysTicker\",\"id\":\"p1765\",\"attributes\":{\"days\":[1,2,3,4,5,6,7,8,9,10,11,12,13,14,15,16,17,18,19,20,21,22,23,24,25,26,27,28,29,30,31]}},{\"type\":\"object\",\"name\":\"DaysTicker\",\"id\":\"p1766\",\"attributes\":{\"days\":[1,4,7,10,13,16,19,22,25,28]}},{\"type\":\"object\",\"name\":\"DaysTicker\",\"id\":\"p1767\",\"attributes\":{\"days\":[1,8,15,22]}},{\"type\":\"object\",\"name\":\"DaysTicker\",\"id\":\"p1768\",\"attributes\":{\"days\":[1,15]}},{\"type\":\"object\",\"name\":\"MonthsTicker\",\"id\":\"p1769\",\"attributes\":{\"months\":[0,1,2,3,4,5,6,7,8,9,10,11]}},{\"type\":\"object\",\"name\":\"MonthsTicker\",\"id\":\"p1770\",\"attributes\":{\"months\":[0,2,4,6,8,10]}},{\"type\":\"object\",\"name\":\"MonthsTicker\",\"id\":\"p1771\",\"attributes\":{\"months\":[0,4,8]}},{\"type\":\"object\",\"name\":\"MonthsTicker\",\"id\":\"p1772\",\"attributes\":{\"months\":[0,6]}},{\"type\":\"object\",\"name\":\"YearsTicker\",\"id\":\"p1773\"}]}},\"formatter\":{\"type\":\"object\",\"name\":\"DatetimeTickFormatter\",\"id\":\"p1774\"},\"axis_label\":\"Date\",\"major_label_policy\":{\"type\":\"object\",\"name\":\"AllLabels\",\"id\":\"p1775\"}}}],\"center\":[{\"type\":\"object\",\"name\":\"Grid\",\"id\":\"p1776\",\"attributes\":{\"axis\":{\"id\":\"p1760\"}}},{\"type\":\"object\",\"name\":\"Grid\",\"id\":\"p1781\",\"attributes\":{\"dimension\":1,\"axis\":{\"id\":\"p1777\"}}},{\"type\":\"object\",\"name\":\"Legend\",\"id\":\"p1804\",\"attributes\":{\"items\":[{\"type\":\"object\",\"name\":\"LegendItem\",\"id\":\"p1805\",\"attributes\":{\"label\":{\"type\":\"value\",\"value\":\"Premium\"},\"renderers\":[{\"id\":\"p1801\"}]}},{\"type\":\"object\",\"name\":\"LegendItem\",\"id\":\"p1815\",\"attributes\":{\"label\":{\"type\":\"value\",\"value\":\"Character Manager\"},\"renderers\":[{\"id\":\"p1812\"}]}}]}}]}}]}}]}};\n  const render_items = [{\"docid\":\"3115c50c-4981-45ad-8b57-67ea18a2e3da\",\"roots\":{\"p1820\":\"ab15b2e8-daee-439d-bf9a-336c3ff58345\"},\"root_ids\":[\"p1820\"]}];\n  void root.Bokeh.embed.embed_items_notebook(docs_json, render_items);\n  }\n  if (root.Bokeh !== undefined) {\n    embed_document(root);\n  } else {\n    let attempts = 0;\n    const timer = setInterval(function(root) {\n      if (root.Bokeh !== undefined) {\n        clearInterval(timer);\n        embed_document(root);\n      } else {\n        attempts++;\n        if (attempts > 100) {\n          clearInterval(timer);\n          console.log(\"Bokeh: ERROR: Unable to run BokehJS code because BokehJS library is missing\");\n        }\n      }\n    }, 10, root)\n  }\n})(window);",
      "application/vnd.bokehjs_exec.v0+json": ""
     },
     "metadata": {
      "application/vnd.bokehjs_exec.v0+json": {
       "id": "p1820"
      }
     },
     "output_type": "display_data"
    }
   ],
   "source": [
    "import pandas as pd\n",
    "from bokeh.plotting import figure, show\n",
    "from bokeh.layouts import column, row\n",
    "from bokeh.models import Select, ColumnDataSource, CustomJS\n",
    "\n",
    "output_notebook()\n",
    "\n",
    "df = cleaned_df.copy()\n",
    "\n",
    "def create_daily_metrics(sku_id):\n",
    "    filtered_df = df[df[\"Sku Id\"] == sku_id]\n",
    "    sums = filtered_df.groupby(pd.Grouper(key=\"datetime\", freq='1D'))[\"Amount (Merchant Currency)\"].sum().reset_index()\n",
    "    counts = filtered_df.groupby(pd.Grouper(key=\"datetime\", freq='1D')).count().reset_index()\n",
    "    return sums, counts\n",
    "\n",
    "premium_sums, premium_counts = create_daily_metrics(\"premium\")\n",
    "unlock_sums, unlock_counts = create_daily_metrics(\"unlockcharactermanager\")\n",
    "\n",
    "# Create ColumnDataSources\n",
    "premium_source = ColumnDataSource({\n",
    "    'date': premium_sums['datetime'],\n",
    "    'sum': premium_sums['Amount (Merchant Currency)'],\n",
    "    'count': premium_counts['Amount (Merchant Currency)']\n",
    "})\n",
    "unlock_source = ColumnDataSource({\n",
    "    'date': unlock_sums['datetime'],\n",
    "    'sum': unlock_sums['Amount (Merchant Currency)'],\n",
    "    'count': unlock_counts['Amount (Merchant Currency)']\n",
    "})\n",
    "\n",
    "# Create figure\n",
    "p = figure(width=800, height=400, x_axis_type=\"datetime\",\n",
    "          title=\"Product Revenue Analysis\")\n",
    "p.xaxis.axis_label = 'Date'\n",
    "p.yaxis.axis_label = 'Value'\n",
    "\n",
    "# Create lines for both metrics\n",
    "premium_line = p.line('date', 'sum', line_color='blue', \n",
    "                     legend_label='Premium', source=premium_source)\n",
    "unlock_line = p.line('date', 'sum', line_color='red', \n",
    "                    legend_label='Character Manager', source=unlock_source)\n",
    "\n",
    "# Create Select widgets\n",
    "product_select = Select(title=\"Product Type\", \n",
    "                       options=[\"Both\", \"Premium Only\", \"Character Manager Only\"],\n",
    "                       value=\"Both\")\n",
    "\n",
    "metric_select = Select(title=\"Metric Type\",\n",
    "                      options=[\"Revenue\", \"Count\"],\n",
    "                      value=\"Revenue\")\n",
    "\n",
    "# Create JavaScript callback\n",
    "callback = CustomJS(args=dict(premium_line=premium_line,\n",
    "                            unlock_line=unlock_line,\n",
    "                            premium_source=premium_source,\n",
    "                            unlock_source=unlock_source,\n",
    "                            product_select=product_select,\n",
    "                            metric_select=metric_select), \n",
    "                   code=\"\"\"\n",
    "    const product = product_select.value;\n",
    "    const metric = metric_select.value;\n",
    "    \n",
    "    // Update y-values based on metric\n",
    "    const field = metric === \"Revenue\" ? \"sum\" : \"count\";\n",
    "    premium_line.glyph.y = {field: field};\n",
    "    unlock_line.glyph.y = {field: field};\n",
    "    \n",
    "    // Update visibility based on product selection\n",
    "    if (product === \"Both\") {\n",
    "        premium_line.visible = true;\n",
    "        unlock_line.visible = true;\n",
    "    } else if (product === \"Premium Only\") {\n",
    "        premium_line.visible = true;\n",
    "        unlock_line.visible = false;\n",
    "    } else {\n",
    "        premium_line.visible = false;\n",
    "        unlock_line.visible = true;\n",
    "    }\n",
    "\"\"\")\n",
    "\n",
    "# Attach callbacks\n",
    "product_select.js_on_change('value', callback)\n",
    "metric_select.js_on_change('value', callback)\n",
    "\n",
    "# Show the plot\n",
    "show(column(row(product_select, metric_select), p))"
   ]
  },
  {
   "cell_type": "markdown",
   "metadata": {},
   "source": [
    "# Review data"
   ]
  },
  {
   "cell_type": "code",
   "execution_count": 9,
   "metadata": {},
   "outputs": [],
   "source": [
    "import pandas as pd\n",
    "from bokeh.models import Range1d, LinearAxis, RangeTool\n",
    "from bokeh.layouts import column, row\n",
    "\n",
    "# Clean ratings data\n",
    "df_ratings = ratings_country_df.copy()\n",
    "df_ratings[\"Date\"] = pd.to_datetime(df_ratings[\"Date\"])\n",
    "df_ratings = df_ratings.groupby(pd.Grouper(key=\"Date\", freq='1D'))[\"Total Average Rating\"].mean()\n",
    "\n",
    "# Clean crashes data\n",
    "df_crash = crashes_df.copy()\n",
    "df_crash[\"Date\"] = pd.to_datetime(df_crash[\"Date\"])\n",
    "df_crash = df_crash.sort_values(by=\"Date\")\n",
    "\n",
    "# Normalize data for selection plot\n",
    "ratings_normalized = (df_ratings - df_ratings.min()) / (df_ratings.max() - df_ratings.min())\n",
    "crashes_normalized = (df_crash[\"Daily Crashes\"] - df_crash[\"Daily Crashes\"].min()) / (df_crash[\"Daily Crashes\"].max() - df_crash[\"Daily Crashes\"].min())\n",
    "\n",
    "# create shared range for the x-axis\n",
    "x_range = (df_ratings.index.min(), df_ratings.index.max())\n",
    "\n",
    "# Create main plots with original values\n",
    "p = figure(width=600, height=300, x_axis_type=\"datetime\", x_range=x_range,\n",
    "          tools=\"xpan\", toolbar_location=\"above\")\n",
    "p.yaxis.axis_label = 'Rating'\n",
    "p.line(df_ratings.index, df_ratings.values, line_color='blue')\n",
    "\n",
    "p2 = figure(width=600, height=300, x_axis_type=\"datetime\", x_range=p.x_range,\n",
    "           tools=\"xpan\", toolbar_location=\"above\")\n",
    "p2.yaxis.axis_label = 'Crashes'\n",
    "p2.line(df_crash[\"Date\"], df_crash[\"Daily Crashes\"], line_color='red')\n",
    "\n",
    "# Create selection plot with normalized values\n",
    "select = figure(title=\"Drag to select time range\",\n",
    "                height=130, width=1200,\n",
    "                x_axis_type=\"datetime\", y_axis_type=None,\n",
    "                tools=\"\", toolbar_location=None,\n",
    "                background_fill_color=\"#efefef\")\n",
    "\n",
    "# Add normalized lines to selection plot\n",
    "select.line(df_ratings.index, ratings_normalized, line_color='blue')\n",
    "select.line(df_crash[\"Date\"], crashes_normalized, line_color='red')\n",
    "\n",
    "# Configure RangeTool\n",
    "range_tool = RangeTool(x_range=p.x_range)\n",
    "range_tool.overlay.fill_color = \"navy\"\n",
    "range_tool.overlay.fill_alpha = 0.2\n",
    "\n",
    "select.ygrid.grid_line_color = None\n",
    "select.add_tools(range_tool)\n",
    "\n",
    "merged_df = pd.merge(df_crash, df_ratings, on='Date', suffixes=('_crash', '_rating'))\n",
    "\n",
    "\n",
    "dates = pd.date_range(start=x_range[0], end=x_range[1], freq='D')\n",
    "\n",
    "# from 0 to 1 based on the dates\n",
    "dates = pd.DataFrame(dates, columns=[\"Date\"])\n",
    "dates[\"color\"] = (dates[\"Date\"] - dates[\"Date\"].min()) / (dates[\"Date\"].max() - dates[\"Date\"].min())\n",
    "dates[\"color\"] = (dates[\"color\"] * 255).astype(int)\n",
    "dates[\"color\"] = dates[\"color\"].apply(lambda x: (x, 150, 150))\n",
    "\n",
    "# make new plot with crashes vs ratings\n",
    "p3 = figure(width=1200, height=400, x_axis_label='Crashes', y_axis_label='Rating')\n",
    "p3.scatter(merged_df[\"Daily Crashes\"], merged_df[\"Total Average Rating\"], color=dates[\"color\"], size=10, fill_alpha=0.6)\n",
    "\n",
    "# calculate correlation\n",
    "correlation = merged_df[\"Daily Crashes\"].corr(merged_df[\"Total Average Rating\"])\n",
    "\n",
    "p3.title.text = f\"Correlation: {correlation:.2f} | More red = more recent\"\n",
    "\n",
    "\n",
    "# Show the plots\n",
    "show(column(row(p, p2), select, p3))"
   ]
  },
  {
   "cell_type": "markdown",
   "metadata": {},
   "source": [
    "# Spatial data"
   ]
  },
  {
   "cell_type": "code",
   "execution_count": null,
   "metadata": {},
   "outputs": [
    {
     "name": "stderr",
     "output_type": "stream",
     "text": [
      "/Users/manuel/Programmeren/School/Assignment 1 attached files 19 February 2025 1622/.venv/lib/python3.13/site-packages/pyproj/crs/crs.py:143: FutureWarning: '+init=<authority>:<code>' syntax is deprecated. '<authority>:<code>' is the preferred initialization method. When making the change, be mindful of axis order changes: https://pyproj4.github.io/pyproj/stable/gotchas.html#axis-order-changes-in-proj-6\n",
      "  in_crs_string = _prepare_from_proj_string(in_crs_string)\n",
      "/Users/manuel/Programmeren/School/Assignment 1 attached files 19 February 2025 1622/.venv/lib/python3.13/site-packages/pyproj/crs/crs.py:143: FutureWarning: '+init=<authority>:<code>' syntax is deprecated. '<authority>:<code>' is the preferred initialization method. When making the change, be mindful of axis order changes: https://pyproj4.github.io/pyproj/stable/gotchas.html#axis-order-changes-in-proj-6\n",
      "  in_crs_string = _prepare_from_proj_string(in_crs_string)\n",
      "/var/folders/bl/0xp3c78j1gs_14t9fbtq2g3m0000gn/T/ipykernel_69003/402303891.py:24: FutureWarning: This function is deprecated. See: https://pyproj4.github.io/pyproj/stable/gotchas.html#upgrading-to-pyproj-2-from-pyproj-1\n",
      "  lat_long_country[\"longitude\"], lat_long_country[\"latitude\"] = transform(inProj, outProj, lat_long_country[\"longitude\"].values, lat_long_country[\"latitude\"].values)\n"
     ]
    },
    {
     "data": {
      "text/html": [
       "\n",
       "  <div id=\"a39c03bd-99b1-485e-990c-303ea7108645\" data-root-id=\"p2567\" style=\"display: contents;\"></div>\n"
      ]
     },
     "metadata": {},
     "output_type": "display_data"
    },
    {
     "data": {
      "application/javascript": "(function(root) {\n  function embed_document(root) {\n  const docs_json = {\"b66b741a-9201-4c88-8fd1-5518f3705b49\":{\"version\":\"3.6.3\",\"title\":\"Bokeh Application\",\"roots\":[{\"type\":\"object\",\"name\":\"Figure\",\"id\":\"p2567\",\"attributes\":{\"x_range\":{\"type\":\"object\",\"name\":\"Range1d\",\"id\":\"p2576\",\"attributes\":{\"start\":-2000000,\"end\":6000000}},\"y_range\":{\"type\":\"object\",\"name\":\"Range1d\",\"id\":\"p2577\",\"attributes\":{\"start\":-1000000,\"end\":7000000}},\"x_scale\":{\"type\":\"object\",\"name\":\"LinearScale\",\"id\":\"p2578\"},\"y_scale\":{\"type\":\"object\",\"name\":\"LinearScale\",\"id\":\"p2579\"},\"title\":{\"type\":\"object\",\"name\":\"Title\",\"id\":\"p2574\"},\"renderers\":[{\"type\":\"object\",\"name\":\"TileRenderer\",\"id\":\"p2604\",\"attributes\":{\"tile_source\":{\"type\":\"object\",\"name\":\"WMTSTileSource\",\"id\":\"p2603\",\"attributes\":{\"url\":\"https://a.basemaps.cartocdn.com/light_all/{z}/{x}/{y}.png\",\"max_zoom\":20,\"attribution\":\"&copy; <a href=\\\"https://www.openstreetmap.org/copyright\\\">OpenStreetMap</a> contributors &copy; <a href=\\\"https://carto.com/attributions\\\">CARTO</a>\"}}}},{\"type\":\"object\",\"name\":\"GlyphRenderer\",\"id\":\"p2613\",\"attributes\":{\"data_source\":{\"type\":\"object\",\"name\":\"ColumnDataSource\",\"id\":\"p2607\",\"attributes\":{\"selected\":{\"type\":\"object\",\"name\":\"Selection\",\"id\":\"p2608\",\"attributes\":{\"indices\":[],\"line_indices\":[]}},\"selection_policy\":{\"type\":\"object\",\"name\":\"UnionRenderers\",\"id\":\"p2609\"},\"data\":{\"type\":\"map\",\"entries\":[[\"x\",{\"type\":\"ndarray\",\"array\":{\"type\":\"bytes\",\"data\":\"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\"},\"shape\":[244],\"dtype\":\"float64\",\"order\":\"little\"}],[\"y\",{\"type\":\"ndarray\",\"array\":{\"type\":\"bytes\",\"data\":\"HCONsUUAVEGqUi5U/HhEQa4zBnXKrE5Bb8u+h+FqPUFZdUY5FHw/QRmiTh76NFNB7hc+KbWZUkHb4Q+EOO00QXONbaS8JjPBsqUfDLffaMHv+5qRqbFRwaWjkOrKfjjBFJNgvn79VkHaJAoHlzJGweXCbEyQcDVB5J4d8DmkUkErfPKjpMxUQWIKEhuknDZB/d7P+962REFSb8123OxYQYeEU1Cs8jRB8oGiXAAcVEF+pQV8wNBGQVkzVtRf7hbBaME7q5XCL0HyILTMwQhNQUf4BRHD2B5BExoeygwNPMG9eD3Qp244wa3wa97p+EVBW/Af1khSSEFvkPECx6hbwQ+I3DVwdkPB7UAj6p4kW0G94msVm6U9QRRT5e6m7lxBfL6mKK3RNMGPJ1Zc93UbwbowzAVggiZBo5BL6c/J2MB/AoMD4I1WQQM5FdBpsClBhSGCqNB2QsEbzzVrQzxQwVp0zpISGylB31M3qkBVUEHZYRcg3RYfQTCRSTvXozBB2p0KMl25QkGYk/Hfo4o7QcKJtyNo2DHBdURMuyjmT0HBb18dYnhYQSOZosLHXllB4dGkaPY6NEF73F3EvwhdQTFQiy1ygTpBIwsmUCE0QEFwqgVb/9FIQfGIXXd64wjBY2zjx7rfXkGTaYAGx6hHQdrcvIsWNUVBNu6MNjoXOkEJ78Hp69FSQeRxucU9My9BLGedTPrcYEFDsMf1oo88wRJnHznazFnBqyNhSQlMKUHprZ0wWNlgQcvJqO2RMFZB+cSh8tLX9cAEn/uhUF1cQan//rKM/TRBE5eW5kXeU0EJoJD3278aQfKzawFTPVhBWmOMHToVK0GnnEm6WXpQQWDYdTy2N2ZB5xL9igoMN0HH7aPRo/owQY+p0AtkTT1BCAoVDn5vBkG51ge0ZA1SQWbkVDj4qVvBIfsCA80nO0GARVb2igw3QaeFW911MTRBbXp4QhqIIEFu8EpfWBFMQWPHEBdqhkNBuKWkOiCyWsFCPPgjhCA6QT/G64wngVVB6I3t+DtqQEHx2nZrv8RWQRktTIWHc/XAzpjt1EfuWkGnuAKY5cJLQd9ea+PlhVtBKM41lSPhQUE3G3YC4JclwZNlAjnz8U1B3NjIGS4kTUFxPZK21k5iQehPAvxNnVNBfRQYdmcTWEHqDHnNSkk/QWLnCpY3TktBqjUAZGKDUEEYu+bjJn2kwOC/S6RZPFNBAuMkA2uENUGb3Ae0xukWwUhABgEeUTTBCGGltRXyPUHvPuUPP8BSQcqDhRJwW1BBTXd1vqYOSkEt2jpsHedAQYto9+znTldBa81l8UU2QUF7LrOfr5ZOQQ1uWFa13DdB1Hq77U7FVkH07wcJt9QqQfrVs1Mj4iVByGUZpyVZSsFmyqcQgTVcQRVRJ2gCeFhB5VwxM0GCXUFmrI0HwjJHQTz2I53fgExB77wTTLCzVEHl3fHdrOxWQWWsNpFFGFRBnV8zaU47QMHKaz6rM0ooQc6SNn3xdlNBmWVMZh9TPkEXZsdqJxVDQdJntK7qlFZB+B9S3fVXQ0GF+nnXyeU9QUb53dgxJTlBEQOctHlBQkF4UcPENto8QeE9qRRuX1BB551xFDeoQcFh74G/tcUVQaU+61qhtzbBG+NnpeKqREEsRXt4LaIcQVV3DRcQJEDBdNuPW6gKRMG5DPrQWylCwWtT8o4LZD5BDWSsODbLScGi8WP3v/suQTKsAYUICjZB7XuVtDMIWkGP8DxhHjlgQQUHowYQK0lBWaEaBoZq7MDjJKB9YX1AwfXJ/jiNEFPB8OATUji3QkFtZH7N+RwtQaM3J7baWi/BUC60tuCEPsFD7oTdMn8lwcP4W/9pEDZBet0b1UYZS0Gg0IX5iOJZQbysbmyOoVZB0sUlCqypRcHl6N3rNHw/QcrPOmT0qUxBuCV3Lxo7UkFUuetueZopQXv3fypafUTBxBOcKu9FRkG3dFyddlpCwfo04ln7A1ZBv3rwzNfbVEE2sI+hEa9gQfEPRG0AXwrBmwde5Z3mREHiKPu8T3YwwZsI9amP1B/BtYcWnN4INkEB4+TeZBNgQd1+Fk35XwJBW5n1Z+ojRcHDKzm6kiRWQR6fyMBX9WpBmseb3yG5V0HfdUNX5NgsQUdus6Wj0FRBIfl1oXDkOEE5f6UyyoYhQc7948BuphpBSj9MXGJC1ECpe9FyFqk3QXQG+CwckE9BX2iMNkJgR8G9m3BXpuFCQf1JclsdkzpBXiKjDmIeWMFFkmUmtmQtQT1NnZ/sTjtB3AjcWJbvUUFIoBKdzZYuwR1RisHNRC7Bpz9wwMX+UUH6WErqHZ9OQdpMc8xYaULBqfXQ6+/9UUE4ycFrdkQyQQOWiDr5NijBU+c4+Om5REFIATg9e64lwcc9iC2ZiVdBfAPm9+qpAkEGBIIjW/tQQadlmWmhPE3BvzSvfWVVU0HkOKnz06FTQaCIMDYTPzZBdhJ1zl7eJUEP4QFuwdc/QRb4oO/WsD9BncQxwmwfOEHexZTBLHA6wc7rfVaznTfBL76e+liZN8E5jUHQmAhUQeHhW2iXvzpB+7xNXh/5NcGGrHdWu0dLwVGQ59TZgTbB2SRxyWh0QME=\"},\"shape\":[244],\"dtype\":\"float64\",\"order\":\"little\"}]]}}},\"view\":{\"type\":\"object\",\"name\":\"CDSView\",\"id\":\"p2614\",\"attributes\":{\"filter\":{\"type\":\"object\",\"name\":\"AllIndices\",\"id\":\"p2615\"}}},\"glyph\":{\"type\":\"object\",\"name\":\"Scatter\",\"id\":\"p2610\",\"attributes\":{\"x\":{\"type\":\"field\",\"field\":\"x\"},\"y\":{\"type\":\"field\",\"field\":\"y\"},\"size\":{\"type\":\"value\",\"value\":10},\"line_color\":{\"type\":\"value\",\"value\":\"#1f77b4\"},\"fill_color\":{\"type\":\"value\",\"value\":\"#1f77b4\"},\"fill_alpha\":{\"type\":\"value\",\"value\":0.6}}},\"nonselection_glyph\":{\"type\":\"object\",\"name\":\"Scatter\",\"id\":\"p2611\",\"attributes\":{\"x\":{\"type\":\"field\",\"field\":\"x\"},\"y\":{\"type\":\"field\",\"field\":\"y\"},\"size\":{\"type\":\"value\",\"value\":10},\"line_color\":{\"type\":\"value\",\"value\":\"#1f77b4\"},\"line_alpha\":{\"type\":\"value\",\"value\":0.1},\"fill_color\":{\"type\":\"value\",\"value\":\"#1f77b4\"},\"fill_alpha\":{\"type\":\"value\",\"value\":0.1},\"hatch_alpha\":{\"type\":\"value\",\"value\":0.1}}},\"muted_glyph\":{\"type\":\"object\",\"name\":\"Scatter\",\"id\":\"p2612\",\"attributes\":{\"x\":{\"type\":\"field\",\"field\":\"x\"},\"y\":{\"type\":\"field\",\"field\":\"y\"},\"size\":{\"type\":\"value\",\"value\":10},\"line_color\":{\"type\":\"value\",\"value\":\"#1f77b4\"},\"line_alpha\":{\"type\":\"value\",\"value\":0.2},\"fill_color\":{\"type\":\"value\",\"value\":\"#1f77b4\"},\"fill_alpha\":{\"type\":\"value\",\"value\":0.2},\"hatch_alpha\":{\"type\":\"value\",\"value\":0.2}}}}}],\"toolbar\":{\"type\":\"object\",\"name\":\"Toolbar\",\"id\":\"p2575\",\"attributes\":{\"tools\":[{\"type\":\"object\",\"name\":\"PanTool\",\"id\":\"p2590\"},{\"type\":\"object\",\"name\":\"WheelZoomTool\",\"id\":\"p2591\",\"attributes\":{\"renderers\":\"auto\"}},{\"type\":\"object\",\"name\":\"BoxZoomTool\",\"id\":\"p2592\",\"attributes\":{\"overlay\":{\"type\":\"object\",\"name\":\"BoxAnnotation\",\"id\":\"p2593\",\"attributes\":{\"syncable\":false,\"line_color\":\"black\",\"line_alpha\":1.0,\"line_width\":2,\"line_dash\":[4,4],\"fill_color\":\"lightgrey\",\"fill_alpha\":0.5,\"level\":\"overlay\",\"visible\":false,\"left\":{\"type\":\"number\",\"value\":\"nan\"},\"right\":{\"type\":\"number\",\"value\":\"nan\"},\"top\":{\"type\":\"number\",\"value\":\"nan\"},\"bottom\":{\"type\":\"number\",\"value\":\"nan\"},\"left_units\":\"canvas\",\"right_units\":\"canvas\",\"top_units\":\"canvas\",\"bottom_units\":\"canvas\",\"handles\":{\"type\":\"object\",\"name\":\"BoxInteractionHandles\",\"id\":\"p2599\",\"attributes\":{\"all\":{\"type\":\"object\",\"name\":\"AreaVisuals\",\"id\":\"p2598\",\"attributes\":{\"fill_color\":\"white\",\"hover_fill_color\":\"lightgray\"}}}}}}}},{\"type\":\"object\",\"name\":\"SaveTool\",\"id\":\"p2600\"},{\"type\":\"object\",\"name\":\"ResetTool\",\"id\":\"p2601\"},{\"type\":\"object\",\"name\":\"HelpTool\",\"id\":\"p2602\"},{\"type\":\"object\",\"name\":\"HoverTool\",\"id\":\"p2606\",\"attributes\":{\"renderers\":\"auto\",\"tooltips\":[[\"Country\",\"@Country\"]]}}]}},\"left\":[{\"type\":\"object\",\"name\":\"MercatorAxis\",\"id\":\"p2585\",\"attributes\":{\"ticker\":{\"type\":\"object\",\"name\":\"MercatorTicker\",\"id\":\"p2586\",\"attributes\":{\"mantissas\":[1,2,5],\"dimension\":\"lat\"}},\"formatter\":{\"type\":\"object\",\"name\":\"MercatorTickFormatter\",\"id\":\"p2587\",\"attributes\":{\"dimension\":\"lat\"}},\"major_label_policy\":{\"type\":\"object\",\"name\":\"AllLabels\",\"id\":\"p2588\"}}}],\"below\":[{\"type\":\"object\",\"name\":\"MercatorAxis\",\"id\":\"p2580\",\"attributes\":{\"ticker\":{\"type\":\"object\",\"name\":\"MercatorTicker\",\"id\":\"p2581\",\"attributes\":{\"mantissas\":[1,2,5],\"dimension\":\"lon\"}},\"formatter\":{\"type\":\"object\",\"name\":\"MercatorTickFormatter\",\"id\":\"p2582\",\"attributes\":{\"dimension\":\"lon\"}},\"major_label_policy\":{\"type\":\"object\",\"name\":\"AllLabels\",\"id\":\"p2583\"}}}],\"center\":[{\"type\":\"object\",\"name\":\"Grid\",\"id\":\"p2584\",\"attributes\":{\"axis\":{\"id\":\"p2580\"}}},{\"type\":\"object\",\"name\":\"Grid\",\"id\":\"p2589\",\"attributes\":{\"dimension\":1,\"axis\":{\"id\":\"p2585\"}}}]}}]}};\n  const render_items = [{\"docid\":\"b66b741a-9201-4c88-8fd1-5518f3705b49\",\"roots\":{\"p2567\":\"a39c03bd-99b1-485e-990c-303ea7108645\"},\"root_ids\":[\"p2567\"]}];\n  void root.Bokeh.embed.embed_items_notebook(docs_json, render_items);\n  }\n  if (root.Bokeh !== undefined) {\n    embed_document(root);\n  } else {\n    let attempts = 0;\n    const timer = setInterval(function(root) {\n      if (root.Bokeh !== undefined) {\n        clearInterval(timer);\n        embed_document(root);\n      } else {\n        attempts++;\n        if (attempts > 100) {\n          clearInterval(timer);\n          console.log(\"Bokeh: ERROR: Unable to run BokehJS code because BokehJS library is missing\");\n        }\n      }\n    }, 10, root)\n  }\n})(window);",
      "application/vnd.bokehjs_exec.v0+json": ""
     },
     "metadata": {
      "application/vnd.bokehjs_exec.v0+json": {
       "id": "p2567"
      }
     },
     "output_type": "display_data"
    }
   ],
   "source": [
    "df_ratings = ratings_country_df.copy()\n",
    "df_ratings[\"Date\"] = pd.to_datetime(df_ratings[\"Date\"])\n",
    "df_ratings = df_ratings.groupby(df_ratings[\"Country\"])[\"Total Average Rating\"].mean()\n",
    "\n",
    "# get the lat and lon for each country\n",
    "import geopandas as gpd\n",
    "lat_long_country = pd.read_csv(\"./data/longlat.csv\")\n",
    "\n",
    "# Convert latitude and longitude to numeric, coercing errors to NaN\n",
    "lat_long_country[\"latitude\"] = pd.to_numeric(lat_long_country[\"latitude\"], errors='coerce')\n",
    "lat_long_country[\"longitude\"] = pd.to_numeric(lat_long_country[\"longitude\"], errors='coerce')\n",
    "\n",
    "# Drop rows with NaN values\n",
    "lat_long_country.dropna(subset=[\"latitude\", \"longitude\"], inplace=True)\n",
    "\n",
    "lat_long_country.head()\n",
    "\n",
    "# # convert lat and lon to web mercator\n",
    "from pyproj import Proj, transform\n",
    "\n",
    "inProj = Proj(init='epsg:4326')\n",
    "outProj = Proj(init='epsg:3857')\n",
    "\n",
    "lat_long_country[\"longitude\"], lat_long_country[\"latitude\"] = transform(inProj, outProj, lat_long_country[\"longitude\"].values, lat_long_country[\"latitude\"].values)\n",
    "\n",
    "from bokeh.plotting import figure\n",
    "\n",
    "p = figure(x_range=(-2000000, 6000000), y_range=(-1000000, 7000000),\n",
    "           x_axis_type=\"mercator\", y_axis_type=\"mercator\")\n",
    "p.add_tile(\"CARTODBPOSITRON\")\n",
    "\n",
    "# Show the plot\n",
    "show(p)\n",
    "\n",
    "\n"
   ]
  },
  {
   "cell_type": "code",
   "execution_count": 72,
   "metadata": {},
   "outputs": [
    {
     "name": "stdout",
     "output_type": "stream",
     "text": [
      "   country      latitude     longitude                    name    rating  \\\n",
      "10      AR -4.638374e+06 -7.081776e+06               Argentina  4.200000   \n",
      "12      AT  6.026747e+06  1.619707e+06                 Austria  3.834112   \n",
      "13      AU -2.909486e+06  1.489178e+07               Australia  4.193551   \n",
      "16      BA  5.452435e+06  1.968026e+06  Bosnia and Herzegovina  5.000000   \n",
      "18      BD  2.715070e+06  1.005842e+07              Bangladesh  5.000000   \n",
      "\n",
      "           color       stars  \n",
      "10  (51, 204, 0)    ⭐️⭐️⭐️⭐️  \n",
      "12  (75, 180, 0)    ⭐️⭐️⭐️⭐️  \n",
      "13  (52, 203, 0)    ⭐️⭐️⭐️⭐️  \n",
      "16   (0, 255, 0)  ⭐️⭐️⭐️⭐️⭐️  \n",
      "18   (0, 255, 0)  ⭐️⭐️⭐️⭐️⭐️  \n"
     ]
    },
    {
     "name": "stderr",
     "output_type": "stream",
     "text": [
      "/Users/manuel/Programmeren/School/Assignment 1 attached files 19 February 2025 1622/.venv/lib/python3.13/site-packages/pyproj/crs/crs.py:143: FutureWarning: '+init=<authority>:<code>' syntax is deprecated. '<authority>:<code>' is the preferred initialization method. When making the change, be mindful of axis order changes: https://pyproj4.github.io/pyproj/stable/gotchas.html#axis-order-changes-in-proj-6\n",
      "  in_crs_string = _prepare_from_proj_string(in_crs_string)\n",
      "/Users/manuel/Programmeren/School/Assignment 1 attached files 19 February 2025 1622/.venv/lib/python3.13/site-packages/pyproj/crs/crs.py:143: FutureWarning: '+init=<authority>:<code>' syntax is deprecated. '<authority>:<code>' is the preferred initialization method. When making the change, be mindful of axis order changes: https://pyproj4.github.io/pyproj/stable/gotchas.html#axis-order-changes-in-proj-6\n",
      "  in_crs_string = _prepare_from_proj_string(in_crs_string)\n",
      "/var/folders/bl/0xp3c78j1gs_14t9fbtq2g3m0000gn/T/ipykernel_69003/2739780747.py:22: FutureWarning: This function is deprecated. See: https://pyproj4.github.io/pyproj/stable/gotchas.html#upgrading-to-pyproj-2-from-pyproj-1\n",
      "  lat_long_country[\"longitude\"], lat_long_country[\"latitude\"] = transform(inProj, outProj, lat_long_country[\"longitude\"].values, lat_long_country[\"latitude\"].values)\n",
      "BokehDeprecationWarning: 'circle() method with size value' was deprecated in Bokeh 3.4.0 and will be removed, use 'scatter(size=...) instead' instead.\n"
     ]
    },
    {
     "data": {
      "text/html": [
       "\n",
       "  <div id=\"abd06485-1b77-4420-a170-9f2e1637339a\" data-root-id=\"p3864\" style=\"display: contents;\"></div>\n"
      ]
     },
     "metadata": {},
     "output_type": "display_data"
    },
    {
     "data": {
      "application/javascript": "(function(root) {\n  function embed_document(root) {\n  const docs_json = {\"dcf225d4-517a-4cbd-9be3-b1a66048a9c1\":{\"version\":\"3.6.3\",\"title\":\"Bokeh Application\",\"roots\":[{\"type\":\"object\",\"name\":\"Figure\",\"id\":\"p3864\",\"attributes\":{\"width\":800,\"x_range\":{\"type\":\"object\",\"name\":\"Range1d\",\"id\":\"p3873\",\"attributes\":{\"start\":-4000000,\"end\":6000000}},\"y_range\":{\"type\":\"object\",\"name\":\"Range1d\",\"id\":\"p3874\",\"attributes\":{\"start\":-1000000,\"end\":7000000}},\"x_scale\":{\"type\":\"object\",\"name\":\"LinearScale\",\"id\":\"p3875\"},\"y_scale\":{\"type\":\"object\",\"name\":\"LinearScale\",\"id\":\"p3876\"},\"title\":{\"type\":\"object\",\"name\":\"Title\",\"id\":\"p3871\"},\"renderers\":[{\"type\":\"object\",\"name\":\"TileRenderer\",\"id\":\"p3901\",\"attributes\":{\"tile_source\":{\"type\":\"object\",\"name\":\"WMTSTileSource\",\"id\":\"p3900\",\"attributes\":{\"url\":\"https://a.basemaps.cartocdn.com/light_all/{z}/{x}/{y}.png\",\"max_zoom\":20,\"attribution\":\"&copy; <a href=\\\"https://www.openstreetmap.org/copyright\\\">OpenStreetMap</a> contributors &copy; <a href=\\\"https://carto.com/attributions\\\">CARTO</a>\"}}}},{\"type\":\"object\",\"name\":\"GlyphRenderer\",\"id\":\"p3909\",\"attributes\":{\"data_source\":{\"type\":\"object\",\"name\":\"ColumnDataSource\",\"id\":\"p3861\",\"attributes\":{\"selected\":{\"type\":\"object\",\"name\":\"Selection\",\"id\":\"p3862\",\"attributes\":{\"indices\":[],\"line_indices\":[]}},\"selection_policy\":{\"type\":\"object\",\"name\":\"UnionRenderers\",\"id\":\"p3863\"},\"data\":{\"type\":\"map\",\"entries\":[[\"index\",{\"type\":\"ndarray\",\"array\":{\"type\":\"bytes\",\"data\":\"CgAAAAwAAAANAAAAEAAAABIAAAATAAAAFQAAABYAAAAaAAAAHAAAACAAAAAhAAAAIwAAACgAAAArAAAALQAAAC4AAAAvAAAAMwAAADQAAAA1AAAANwAAADkAAAA7AAAAPAAAAD0AAABAAAAAQgAAAEcAAABJAAAAVQAAAFcAAABcAAAAXwAAAGEAAABiAAAAYwAAAGQAAABmAAAAaAAAAGkAAABqAAAAawAAAG0AAABvAAAAdwAAAHgAAAB8AAAAggAAAIMAAACEAAAAhQAAAIgAAACVAAAAmQAAAJoAAACbAAAAoQAAAKIAAACjAAAApwAAAKkAAACqAAAArQAAAK4AAACvAAAAsgAAALQAAAC1AAAAtgAAALkAAAC6AAAAuwAAAMEAAADCAAAAxAAAAMYAAADNAAAA1AAAANsAAADeAAAA4AAAAOMAAADkAAAA6AAAAOsAAADyAAAA\"},\"shape\":[87],\"dtype\":\"int32\",\"order\":\"little\"}],[\"country\",{\"type\":\"ndarray\",\"array\":[\"AR\",\"AT\",\"AU\",\"BA\",\"BD\",\"BE\",\"BG\",\"BH\",\"BN\",\"BR\",\"BW\",\"BY\",\"CA\",\"CH\",\"CL\",\"CN\",\"CO\",\"CR\",\"CY\",\"CZ\",\"DE\",\"DK\",\"DO\",\"EC\",\"EE\",\"EG\",\"ES\",\"FI\",\"FR\",\"GB\",\"GR\",\"GT\",\"HK\",\"HR\",\"HU\",\"ID\",\"IE\",\"IL\",\"IN\",\"IQ\",\"IR\",\"IS\",\"IT\",\"JM\",\"JP\",\"KR\",\"KW\",\"LB\",\"LT\",\"LU\",\"LV\",\"LY\",\"MD\",\"MT\",\"MX\",\"MY\",\"MZ\",\"NI\",\"NL\",\"NO\",\"NZ\",\"PA\",\"PE\",\"PH\",\"PK\",\"PL\",\"PR\",\"PT\",\"PW\",\"PY\",\"RO\",\"RS\",\"RU\",\"SE\",\"SG\",\"SI\",\"SK\",\"SV\",\"TH\",\"TR\",\"TW\",\"UA\",\"US\",\"UY\",\"VE\",\"VN\",\"ZA\"],\"shape\":[87],\"dtype\":\"object\",\"order\":\"little\"}],[\"latitude\",{\"type\":\"ndarray\",\"array\":{\"type\":\"bytes\",\"data\":\"7/uakamxUcEUk2C+fv1WQdokCgeXMkbBK3zyo6TMVEH93s/73rZEQVJvzXbc7FhB8oGiXAAcVEF+pQV8wNBGQUf4BRHD2B5BvXg90KduOMEPiNw1cHZDwe1AI+qeJFtBFFPl7qbuXEF/AoMD4I1WQRvPNWtDPFDB31M3qkBVUEHZYRcg3RYfQTCRSTvXozBBdURMuyjmT0HBb18dYnhYQSOZosLHXllBe9xdxL8IXUEjCyZQITRAQfGIXXd64wjBY2zjx7rfXkGTaYAGx6hHQQnvwenr0VJBLGedTPrcYEHLyajtkTBWQQSf+6FQXVxBudYHtGQNUkEh+wIDzSc7QWPHEBdqhkNBP8brjCeBVUHx2nZrv8RWQRktTIWHc/XAzpjt1EfuWkGnuAKY5cJLQSjONZUj4UFBk2UCOfPxTUHc2MgZLiRNQXE9krbWTmJB6E8C/E2dU0HqDHnNSkk/Qao1AGRig1BByoOFEnBbUEFNd3W+pg5KQXsus5+vlk5BZsqnEIE1XEEVUSdoAnhYQeVcMTNBgl1BZqyNB8IyR0Hl3fHdrOxWQeE9qRRuX1BBG+NnpeKqREEsRXt4LaIcQVV3DRcQJEDBMqwBhQgKNkHte5W0MwhaQY/wPGEeOWBB9cn+OI0QU8FtZH7N+RwtQaM3J7baWi/Bw/hb/2kQNkF63RvVRhlLQaDQhfmI4llB5ejd6zR8P0G4JXcvGjtSQVS56255milBe/d/Klp9RMH6NOJZ+wNWQb968MzX21RBNrCPoRGvYEEB4+TeZBNgQd1+Fk35XwJBwys5upIkVkGax5vfIblXQal70XIWqTdBPU2dn+xOO0Gp9dDr7/1RQVPnOPjpuURBxz2ILZmJV0EGBIIjW/tQQadlmWmhPE3BdhJ1zl7eJUGdxDHCbB84QYasd1a7R0vB\"},\"shape\":[87],\"dtype\":\"float64\",\"order\":\"little\"}],[\"longitude\",{\"type\":\"ndarray\",\"array\":{\"type\":\"bytes\",\"data\":\"Ybcc4ssDW8G3yyWb+rY4QQ94poBgZ2xB25buvJkHPkE/RDiYVi9jQYBTYv/bXh5BTRAczyalRUE1z5y/2oBVQcziLDYMXGhBcESm7tEMVsFUWlFbAfdEQac9xIOmvUdBBreljICUZsHLF4bkVPMrQUs1QLh3YV7BxXQvUZAfZkHLC7hR5YxfwVj7oJ5vyGHBjDXKcFlkTEEaOTtASkg6QVSsZY3CwDFBy+sp3sUjMEGu6j+lactdwUGOOB6tmWDBdBRA/3o+RUFbHz4yGylKQT3gigtFeRnB/LZyhy/eRUFwuphKCxUOQdjaFw9rWBfBQI49pg+JQkEUJ6pEgyhjwfoROWNyOmhBLiWTQpjROUEYVl7vbJBAQQ+algM4MGhBvhAfRpMBLMEsxL/Zd5lNQWtA+3ILxGBBjlCrG2WMUkGeYFB8c8xWQYk1VdWGJ0DBxciaV9JYNUFqYV3nhWlgwZcoNqPEWm1BZPxPlswga0EFZNaAwylUQRdqBqc1dU5BRuOtr0lIREFbGd4dzNIkQcXfVTw/5URBF0S9CJlDPUEG03aTNBhIQQwiM/0HazhBAM83dkfGZcGqHAVL6qZlQSZM/l/eLE5BDZIDK3UXYsGSv9MSuvkhQZeSNoNNxSxBy1XRk/uQckFEU8Un7iZhwV9UbyHu2l/B7KwOsg3baUH4vSLAiXJdQXBDNWWNQkBBzjSgXgtHXMEE1woQrPArwQsNEzNDk2xBf16RZ3TRWMGtTEaBSzRFQaLuhsMc10FBXa0+yZ9cZkE8YbUJ+ao/QWVr42gmC2ZB9a8sTqd4OUH9HhCp+rpAQQERfo7932LBjQOex3hxZUEi8lZUou5NQQ7U8t3VrmlBB+Z4Pwx4SkHVKTvJflJkwTVwxhZUrlfBrnp7tf9GXMFizAdVbv1mQSphdr4Xe0NB\"},\"shape\":[87],\"dtype\":\"float64\",\"order\":\"little\"}],[\"name\",{\"type\":\"ndarray\",\"array\":[\"Argentina\",\"Austria\",\"Australia\",\"Bosnia and Herzegovina\",\"Bangladesh\",\"Belgium\",\"Bulgaria\",\"Bahrain\",\"Brunei\",\"Brazil\",\"Botswana\",\"Belarus\",\"Canada\",\"Switzerland\",\"Chile\",\"China\",\"Colombia\",\"Costa Rica\",\"Cyprus\",\"Czech Republic\",\"Germany\",\"Denmark\",\"Dominican Republic\",\"Ecuador\",\"Estonia\",\"Egypt\",\"Spain\",\"Finland\",\"France\",\"United Kingdom\",\"Greece\",\"Guatemala\",\"Hong Kong\",\"Croatia\",\"Hungary\",\"Indonesia\",\"Ireland\",\"Israel\",\"India\",\"Iraq\",\"Iran\",\"Iceland\",\"Italy\",\"Jamaica\",\"Japan\",\"South Korea\",\"Kuwait\",\"Lebanon\",\"Lithuania\",\"Luxembourg\",\"Latvia\",\"Libya\",\"Moldova\",\"Malta\",\"Mexico\",\"Malaysia\",\"Mozambique\",\"Nicaragua\",\"Netherlands\",\"Norway\",\"New Zealand\",\"Panama\",\"Peru\",\"Philippines\",\"Pakistan\",\"Poland\",\"Puerto Rico\",\"Portugal\",\"Palau\",\"Paraguay\",\"Romania\",\"Serbia\",\"Russia\",\"Sweden\",\"Singapore\",\"Slovenia\",\"Slovakia\",\"El Salvador\",\"Thailand\",\"Turkey\",\"Taiwan\",\"Ukraine\",\"United States\",\"Uruguay\",\"Venezuela\",\"Vietnam\",\"South Africa\"],\"shape\":[87],\"dtype\":\"object\",\"order\":\"little\"}],[\"rating\",{\"type\":\"ndarray\",\"array\":{\"type\":\"bytes\",\"data\":\"zczMzMzMEECXg5v9QqwOQPJ9tFYyxhBAAAAAAAAAFEAAAAAAAAAUQLFd3xZrmw1AAAAAAAAAFEAAAAAAAAAUQAAAAAAAABRAzpJ287BdEUAAAAAAAADwPwAAAAAAABRAtX7cAG1/EEAAAAAAAAAUQIJLqc05zBBAAAAAAAAAFEChgumoueQSQIXrUbgehRJAAAAAAAAAFEAzMzMzMzMTQMjIes9YoBBAQ6wojY/MEEAAAAAAAAAAQAAAAAAAABBAAAAAAAAAFEBwPQrXo3ATQKPv6Aq6+A9AXI/C9ShcDUD8rQKMU80RQK+04NwUwhBAeuwDDahMEkAAAAAAAAAEQAAAAAAAABRAzczMzMzMEUApXI/C9SgRQEg6JdmRRBJAUZB0SrKjEUC4HoXrUbgQQLgehetRuBBAAAAAAAAAAEAAAAAAAAAUQFK4HoXrURFA6EQQ0p8eEUAAAAAAAAAUQI/C9ShcjxBAAAAAAAAADEAAAAAAAAAMQAAAAAAAABJAAAAAAAAAFEAAAAAAAAAUQAAAAAAAABRAAAAAAAAAEEAAAAAAAAAQQAAAAAAAABRAv+iAD6r1EUCF61G4HoURQAAAAAAAABRAAAAAAAAAFED2UAbK+6MQQPx8AgKp/g9Agd6pazm4EUAAAAAAAAAUQHA9CtejcBNAQyJ+PgEBEUAAAAAAAAAOQEjhehSuRxFAAAAAAAAAFEAB2v7DACgOQAAAAAAAABRAAAAAAAAA8D+kcD0K16MTQOAqwDjVhBJAEvHzCQikDkDhehSuR+EQQCEllDyd1xJAZmZmZmZmEkAAAAAAAAARQAAAAAAAABRAAAAAAAAAFEDWmHHvXuASQHjqWg5u9g9AAAAAAAAAE0AXzZvMQiIQQPP+CFZPcRNAAAAAAAAAEEAAAAAAAAAUQBOGnaZBZhFA\"},\"shape\":[87],\"dtype\":\"float64\",\"order\":\"little\"}],[\"color\",{\"type\":\"ndarray\",\"array\":[[51,204,0],[75,180,0],[52,203,0],[0,255,0],[0,255,0],[83,172,0],[0,255,0],[0,255,0],[0,255,0],[42,213,0],[255,0,0],[0,255,0],[56,199,0],[0,255,0],[52,203,0],[0,255,0],[18,237,0],[24,231,0],[0,255,0],[13,242,0],[54,201,0],[52,203,0],[192,63,0],[64,191,0],[0,255,0],[9,246,0],[64,191,0],[85,170,0],[36,219,0],[52,203,0],[28,227,0],[160,95,0],[0,255,0],[36,219,0],[46,209,0],[28,227,0],[38,217,0],[53,202,0],[53,202,0],[192,63,0],[0,255,0],[43,212,0],[46,209,0],[0,255,0],[55,200,0],[96,159,0],[96,159,0],[32,223,0],[0,255,0],[0,255,0],[0,255,0],[64,191,0],[64,191,0],[0,255,0],[33,222,0],[40,215,0],[0,255,0],[0,255,0],[54,201,0],[64,191,0],[37,218,0],[0,255,0],[9,246,0],[48,207,0],[80,175,0],[44,211,0],[0,255,0],[79,176,0],[0,255,0],[255,0,0],[6,249,0],[24,231,0],[75,180,0],[50,205,0],[19,236,0],[26,229,0],[48,207,0],[0,255,0],[0,255,0],[18,237,0],[65,190,0],[16,239,0],[62,193,0],[9,246,0],[64,191,0],[0,255,0],[42,213,0]],\"shape\":[87],\"dtype\":\"object\",\"order\":\"little\"}],[\"stars\",{\"type\":\"ndarray\",\"array\":[\"\\u2b50\\ufe0f\\u2b50\\ufe0f\\u2b50\\ufe0f\\u2b50\\ufe0f\",\"\\u2b50\\ufe0f\\u2b50\\ufe0f\\u2b50\\ufe0f\\u2b50\\ufe0f\",\"\\u2b50\\ufe0f\\u2b50\\ufe0f\\u2b50\\ufe0f\\u2b50\\ufe0f\",\"\\u2b50\\ufe0f\\u2b50\\ufe0f\\u2b50\\ufe0f\\u2b50\\ufe0f\\u2b50\\ufe0f\",\"\\u2b50\\ufe0f\\u2b50\\ufe0f\\u2b50\\ufe0f\\u2b50\\ufe0f\\u2b50\\ufe0f\",\"\\u2b50\\ufe0f\\u2b50\\ufe0f\\u2b50\\ufe0f\\u2b50\\ufe0f\",\"\\u2b50\\ufe0f\\u2b50\\ufe0f\\u2b50\\ufe0f\\u2b50\\ufe0f\\u2b50\\ufe0f\",\"\\u2b50\\ufe0f\\u2b50\\ufe0f\\u2b50\\ufe0f\\u2b50\\ufe0f\\u2b50\\ufe0f\",\"\\u2b50\\ufe0f\\u2b50\\ufe0f\\u2b50\\ufe0f\\u2b50\\ufe0f\\u2b50\\ufe0f\",\"\\u2b50\\ufe0f\\u2b50\\ufe0f\\u2b50\\ufe0f\\u2b50\\ufe0f\",\"\\u2b50\\ufe0f\",\"\\u2b50\\ufe0f\\u2b50\\ufe0f\\u2b50\\ufe0f\\u2b50\\ufe0f\\u2b50\\ufe0f\",\"\\u2b50\\ufe0f\\u2b50\\ufe0f\\u2b50\\ufe0f\\u2b50\\ufe0f\",\"\\u2b50\\ufe0f\\u2b50\\ufe0f\\u2b50\\ufe0f\\u2b50\\ufe0f\\u2b50\\ufe0f\",\"\\u2b50\\ufe0f\\u2b50\\ufe0f\\u2b50\\ufe0f\\u2b50\\ufe0f\",\"\\u2b50\\ufe0f\\u2b50\\ufe0f\\u2b50\\ufe0f\\u2b50\\ufe0f\\u2b50\\ufe0f\",\"\\u2b50\\ufe0f\\u2b50\\ufe0f\\u2b50\\ufe0f\\u2b50\\ufe0f\\u2b50\\ufe0f\",\"\\u2b50\\ufe0f\\u2b50\\ufe0f\\u2b50\\ufe0f\\u2b50\\ufe0f\\u2b50\\ufe0f\",\"\\u2b50\\ufe0f\\u2b50\\ufe0f\\u2b50\\ufe0f\\u2b50\\ufe0f\\u2b50\\ufe0f\",\"\\u2b50\\ufe0f\\u2b50\\ufe0f\\u2b50\\ufe0f\\u2b50\\ufe0f\\u2b50\\ufe0f\",\"\\u2b50\\ufe0f\\u2b50\\ufe0f\\u2b50\\ufe0f\\u2b50\\ufe0f\",\"\\u2b50\\ufe0f\\u2b50\\ufe0f\\u2b50\\ufe0f\\u2b50\\ufe0f\",\"\\u2b50\\ufe0f\\u2b50\\ufe0f\",\"\\u2b50\\ufe0f\\u2b50\\ufe0f\\u2b50\\ufe0f\\u2b50\\ufe0f\",\"\\u2b50\\ufe0f\\u2b50\\ufe0f\\u2b50\\ufe0f\\u2b50\\ufe0f\\u2b50\\ufe0f\",\"\\u2b50\\ufe0f\\u2b50\\ufe0f\\u2b50\\ufe0f\\u2b50\\ufe0f\\u2b50\\ufe0f\",\"\\u2b50\\ufe0f\\u2b50\\ufe0f\\u2b50\\ufe0f\\u2b50\\ufe0f\",\"\\u2b50\\ufe0f\\u2b50\\ufe0f\\u2b50\\ufe0f\\u2b50\\ufe0f\",\"\\u2b50\\ufe0f\\u2b50\\ufe0f\\u2b50\\ufe0f\\u2b50\\ufe0f\",\"\\u2b50\\ufe0f\\u2b50\\ufe0f\\u2b50\\ufe0f\\u2b50\\ufe0f\",\"\\u2b50\\ufe0f\\u2b50\\ufe0f\\u2b50\\ufe0f\\u2b50\\ufe0f\\u2b50\\ufe0f\",\"\\u2b50\\ufe0f\\u2b50\\ufe0f\",\"\\u2b50\\ufe0f\\u2b50\\ufe0f\\u2b50\\ufe0f\\u2b50\\ufe0f\\u2b50\\ufe0f\",\"\\u2b50\\ufe0f\\u2b50\\ufe0f\\u2b50\\ufe0f\\u2b50\\ufe0f\",\"\\u2b50\\ufe0f\\u2b50\\ufe0f\\u2b50\\ufe0f\\u2b50\\ufe0f\",\"\\u2b50\\ufe0f\\u2b50\\ufe0f\\u2b50\\ufe0f\\u2b50\\ufe0f\\u2b50\\ufe0f\",\"\\u2b50\\ufe0f\\u2b50\\ufe0f\\u2b50\\ufe0f\\u2b50\\ufe0f\",\"\\u2b50\\ufe0f\\u2b50\\ufe0f\\u2b50\\ufe0f\\u2b50\\ufe0f\",\"\\u2b50\\ufe0f\\u2b50\\ufe0f\\u2b50\\ufe0f\\u2b50\\ufe0f\",\"\\u2b50\\ufe0f\\u2b50\\ufe0f\",\"\\u2b50\\ufe0f\\u2b50\\ufe0f\\u2b50\\ufe0f\\u2b50\\ufe0f\\u2b50\\ufe0f\",\"\\u2b50\\ufe0f\\u2b50\\ufe0f\\u2b50\\ufe0f\\u2b50\\ufe0f\",\"\\u2b50\\ufe0f\\u2b50\\ufe0f\\u2b50\\ufe0f\\u2b50\\ufe0f\",\"\\u2b50\\ufe0f\\u2b50\\ufe0f\\u2b50\\ufe0f\\u2b50\\ufe0f\\u2b50\\ufe0f\",\"\\u2b50\\ufe0f\\u2b50\\ufe0f\\u2b50\\ufe0f\\u2b50\\ufe0f\",\"\\u2b50\\ufe0f\\u2b50\\ufe0f\\u2b50\\ufe0f\\u2b50\\ufe0f\",\"\\u2b50\\ufe0f\\u2b50\\ufe0f\\u2b50\\ufe0f\\u2b50\\ufe0f\",\"\\u2b50\\ufe0f\\u2b50\\ufe0f\\u2b50\\ufe0f\\u2b50\\ufe0f\",\"\\u2b50\\ufe0f\\u2b50\\ufe0f\\u2b50\\ufe0f\\u2b50\\ufe0f\\u2b50\\ufe0f\",\"\\u2b50\\ufe0f\\u2b50\\ufe0f\\u2b50\\ufe0f\\u2b50\\ufe0f\\u2b50\\ufe0f\",\"\\u2b50\\ufe0f\\u2b50\\ufe0f\\u2b50\\ufe0f\\u2b50\\ufe0f\\u2b50\\ufe0f\",\"\\u2b50\\ufe0f\\u2b50\\ufe0f\\u2b50\\ufe0f\\u2b50\\ufe0f\",\"\\u2b50\\ufe0f\\u2b50\\ufe0f\\u2b50\\ufe0f\\u2b50\\ufe0f\",\"\\u2b50\\ufe0f\\u2b50\\ufe0f\\u2b50\\ufe0f\\u2b50\\ufe0f\\u2b50\\ufe0f\",\"\\u2b50\\ufe0f\\u2b50\\ufe0f\\u2b50\\ufe0f\\u2b50\\ufe0f\",\"\\u2b50\\ufe0f\\u2b50\\ufe0f\\u2b50\\ufe0f\\u2b50\\ufe0f\",\"\\u2b50\\ufe0f\\u2b50\\ufe0f\\u2b50\\ufe0f\\u2b50\\ufe0f\\u2b50\\ufe0f\",\"\\u2b50\\ufe0f\\u2b50\\ufe0f\\u2b50\\ufe0f\\u2b50\\ufe0f\\u2b50\\ufe0f\",\"\\u2b50\\ufe0f\\u2b50\\ufe0f\\u2b50\\ufe0f\\u2b50\\ufe0f\",\"\\u2b50\\ufe0f\\u2b50\\ufe0f\\u2b50\\ufe0f\\u2b50\\ufe0f\",\"\\u2b50\\ufe0f\\u2b50\\ufe0f\\u2b50\\ufe0f\\u2b50\\ufe0f\",\"\\u2b50\\ufe0f\\u2b50\\ufe0f\\u2b50\\ufe0f\\u2b50\\ufe0f\\u2b50\\ufe0f\",\"\\u2b50\\ufe0f\\u2b50\\ufe0f\\u2b50\\ufe0f\\u2b50\\ufe0f\\u2b50\\ufe0f\",\"\\u2b50\\ufe0f\\u2b50\\ufe0f\\u2b50\\ufe0f\\u2b50\\ufe0f\",\"\\u2b50\\ufe0f\\u2b50\\ufe0f\\u2b50\\ufe0f\\u2b50\\ufe0f\",\"\\u2b50\\ufe0f\\u2b50\\ufe0f\\u2b50\\ufe0f\\u2b50\\ufe0f\",\"\\u2b50\\ufe0f\\u2b50\\ufe0f\\u2b50\\ufe0f\\u2b50\\ufe0f\\u2b50\\ufe0f\",\"\\u2b50\\ufe0f\\u2b50\\ufe0f\\u2b50\\ufe0f\\u2b50\\ufe0f\",\"\\u2b50\\ufe0f\\u2b50\\ufe0f\\u2b50\\ufe0f\\u2b50\\ufe0f\\u2b50\\ufe0f\",\"\\u2b50\\ufe0f\",\"\\u2b50\\ufe0f\\u2b50\\ufe0f\\u2b50\\ufe0f\\u2b50\\ufe0f\\u2b50\\ufe0f\",\"\\u2b50\\ufe0f\\u2b50\\ufe0f\\u2b50\\ufe0f\\u2b50\\ufe0f\\u2b50\\ufe0f\",\"\\u2b50\\ufe0f\\u2b50\\ufe0f\\u2b50\\ufe0f\\u2b50\\ufe0f\",\"\\u2b50\\ufe0f\\u2b50\\ufe0f\\u2b50\\ufe0f\\u2b50\\ufe0f\",\"\\u2b50\\ufe0f\\u2b50\\ufe0f\\u2b50\\ufe0f\\u2b50\\ufe0f\\u2b50\\ufe0f\",\"\\u2b50\\ufe0f\\u2b50\\ufe0f\\u2b50\\ufe0f\\u2b50\\ufe0f\\u2b50\\ufe0f\",\"\\u2b50\\ufe0f\\u2b50\\ufe0f\\u2b50\\ufe0f\\u2b50\\ufe0f\",\"\\u2b50\\ufe0f\\u2b50\\ufe0f\\u2b50\\ufe0f\\u2b50\\ufe0f\\u2b50\\ufe0f\",\"\\u2b50\\ufe0f\\u2b50\\ufe0f\\u2b50\\ufe0f\\u2b50\\ufe0f\\u2b50\\ufe0f\",\"\\u2b50\\ufe0f\\u2b50\\ufe0f\\u2b50\\ufe0f\\u2b50\\ufe0f\\u2b50\\ufe0f\",\"\\u2b50\\ufe0f\\u2b50\\ufe0f\\u2b50\\ufe0f\\u2b50\\ufe0f\",\"\\u2b50\\ufe0f\\u2b50\\ufe0f\\u2b50\\ufe0f\\u2b50\\ufe0f\\u2b50\\ufe0f\",\"\\u2b50\\ufe0f\\u2b50\\ufe0f\\u2b50\\ufe0f\\u2b50\\ufe0f\",\"\\u2b50\\ufe0f\\u2b50\\ufe0f\\u2b50\\ufe0f\\u2b50\\ufe0f\\u2b50\\ufe0f\",\"\\u2b50\\ufe0f\\u2b50\\ufe0f\\u2b50\\ufe0f\\u2b50\\ufe0f\",\"\\u2b50\\ufe0f\\u2b50\\ufe0f\\u2b50\\ufe0f\\u2b50\\ufe0f\\u2b50\\ufe0f\",\"\\u2b50\\ufe0f\\u2b50\\ufe0f\\u2b50\\ufe0f\\u2b50\\ufe0f\"],\"shape\":[87],\"dtype\":\"object\",\"order\":\"little\"}]]}}},\"view\":{\"type\":\"object\",\"name\":\"CDSView\",\"id\":\"p3910\",\"attributes\":{\"filter\":{\"type\":\"object\",\"name\":\"AllIndices\",\"id\":\"p3911\"}}},\"glyph\":{\"type\":\"object\",\"name\":\"Scatter\",\"id\":\"p3906\",\"attributes\":{\"x\":{\"type\":\"field\",\"field\":\"longitude\"},\"y\":{\"type\":\"field\",\"field\":\"latitude\"},\"size\":{\"type\":\"value\",\"value\":10},\"line_color\":{\"type\":\"value\",\"value\":\"white\"},\"fill_color\":{\"type\":\"field\",\"field\":\"color\"},\"fill_alpha\":{\"type\":\"value\",\"value\":0.8}}},\"nonselection_glyph\":{\"type\":\"object\",\"name\":\"Scatter\",\"id\":\"p3907\",\"attributes\":{\"x\":{\"type\":\"field\",\"field\":\"longitude\"},\"y\":{\"type\":\"field\",\"field\":\"latitude\"},\"size\":{\"type\":\"value\",\"value\":10},\"line_color\":{\"type\":\"value\",\"value\":\"white\"},\"line_alpha\":{\"type\":\"value\",\"value\":0.1},\"fill_color\":{\"type\":\"field\",\"field\":\"color\"},\"fill_alpha\":{\"type\":\"value\",\"value\":0.1},\"hatch_alpha\":{\"type\":\"value\",\"value\":0.1}}},\"muted_glyph\":{\"type\":\"object\",\"name\":\"Scatter\",\"id\":\"p3908\",\"attributes\":{\"x\":{\"type\":\"field\",\"field\":\"longitude\"},\"y\":{\"type\":\"field\",\"field\":\"latitude\"},\"size\":{\"type\":\"value\",\"value\":10},\"line_color\":{\"type\":\"value\",\"value\":\"white\"},\"line_alpha\":{\"type\":\"value\",\"value\":0.2},\"fill_color\":{\"type\":\"field\",\"field\":\"color\"},\"fill_alpha\":{\"type\":\"value\",\"value\":0.2},\"hatch_alpha\":{\"type\":\"value\",\"value\":0.2}}}}}],\"toolbar\":{\"type\":\"object\",\"name\":\"Toolbar\",\"id\":\"p3872\",\"attributes\":{\"tools\":[{\"type\":\"object\",\"name\":\"PanTool\",\"id\":\"p3887\"},{\"type\":\"object\",\"name\":\"WheelZoomTool\",\"id\":\"p3888\",\"attributes\":{\"renderers\":\"auto\"}},{\"type\":\"object\",\"name\":\"BoxZoomTool\",\"id\":\"p3889\",\"attributes\":{\"overlay\":{\"type\":\"object\",\"name\":\"BoxAnnotation\",\"id\":\"p3890\",\"attributes\":{\"syncable\":false,\"line_color\":\"black\",\"line_alpha\":1.0,\"line_width\":2,\"line_dash\":[4,4],\"fill_color\":\"lightgrey\",\"fill_alpha\":0.5,\"level\":\"overlay\",\"visible\":false,\"left\":{\"type\":\"number\",\"value\":\"nan\"},\"right\":{\"type\":\"number\",\"value\":\"nan\"},\"top\":{\"type\":\"number\",\"value\":\"nan\"},\"bottom\":{\"type\":\"number\",\"value\":\"nan\"},\"left_units\":\"canvas\",\"right_units\":\"canvas\",\"top_units\":\"canvas\",\"bottom_units\":\"canvas\",\"handles\":{\"type\":\"object\",\"name\":\"BoxInteractionHandles\",\"id\":\"p3896\",\"attributes\":{\"all\":{\"type\":\"object\",\"name\":\"AreaVisuals\",\"id\":\"p3895\",\"attributes\":{\"fill_color\":\"white\",\"hover_fill_color\":\"lightgray\"}}}}}}}},{\"type\":\"object\",\"name\":\"SaveTool\",\"id\":\"p3897\"},{\"type\":\"object\",\"name\":\"ResetTool\",\"id\":\"p3898\"},{\"type\":\"object\",\"name\":\"HelpTool\",\"id\":\"p3899\"},{\"type\":\"object\",\"name\":\"HoverTool\",\"id\":\"p3912\",\"attributes\":{\"renderers\":\"auto\",\"tooltips\":[[\"Country\",\"@country\"],[\"Name\",\"@name\"],[\"Rating\",\"@rating\"],[\"Stars\",\"@stars\"]]}}]}},\"left\":[{\"type\":\"object\",\"name\":\"MercatorAxis\",\"id\":\"p3882\",\"attributes\":{\"ticker\":{\"type\":\"object\",\"name\":\"MercatorTicker\",\"id\":\"p3883\",\"attributes\":{\"mantissas\":[1,2,5],\"dimension\":\"lat\"}},\"formatter\":{\"type\":\"object\",\"name\":\"MercatorTickFormatter\",\"id\":\"p3884\",\"attributes\":{\"dimension\":\"lat\"}},\"major_label_policy\":{\"type\":\"object\",\"name\":\"AllLabels\",\"id\":\"p3885\"}}}],\"below\":[{\"type\":\"object\",\"name\":\"MercatorAxis\",\"id\":\"p3877\",\"attributes\":{\"ticker\":{\"type\":\"object\",\"name\":\"MercatorTicker\",\"id\":\"p3878\",\"attributes\":{\"mantissas\":[1,2,5],\"dimension\":\"lon\"}},\"formatter\":{\"type\":\"object\",\"name\":\"MercatorTickFormatter\",\"id\":\"p3879\",\"attributes\":{\"dimension\":\"lon\"}},\"major_label_policy\":{\"type\":\"object\",\"name\":\"AllLabels\",\"id\":\"p3880\"}}}],\"center\":[{\"type\":\"object\",\"name\":\"Grid\",\"id\":\"p3881\",\"attributes\":{\"axis\":{\"id\":\"p3877\"}}},{\"type\":\"object\",\"name\":\"Grid\",\"id\":\"p3886\",\"attributes\":{\"dimension\":1,\"axis\":{\"id\":\"p3882\"}}},{\"type\":\"object\",\"name\":\"LabelSet\",\"id\":\"p3913\",\"attributes\":{\"source\":{\"id\":\"p3861\"},\"x\":{\"type\":\"field\",\"field\":\"longitude\"},\"y\":{\"type\":\"field\",\"field\":\"latitude\"},\"text\":{\"type\":\"field\",\"field\":\"name\"},\"x_offset\":{\"type\":\"value\",\"value\":5},\"y_offset\":{\"type\":\"value\",\"value\":5},\"background_fill_color\":{\"type\":\"value\",\"value\":\"white\"},\"border_line_color\":{\"type\":\"value\",\"value\":\"black\"}}}]}}]}};\n  const render_items = [{\"docid\":\"dcf225d4-517a-4cbd-9be3-b1a66048a9c1\",\"roots\":{\"p3864\":\"abd06485-1b77-4420-a170-9f2e1637339a\"},\"root_ids\":[\"p3864\"]}];\n  void root.Bokeh.embed.embed_items_notebook(docs_json, render_items);\n  }\n  if (root.Bokeh !== undefined) {\n    embed_document(root);\n  } else {\n    let attempts = 0;\n    const timer = setInterval(function(root) {\n      if (root.Bokeh !== undefined) {\n        clearInterval(timer);\n        embed_document(root);\n      } else {\n        attempts++;\n        if (attempts > 100) {\n          clearInterval(timer);\n          console.log(\"Bokeh: ERROR: Unable to run BokehJS code because BokehJS library is missing\");\n        }\n      }\n    }, 10, root)\n  }\n})(window);",
      "application/vnd.bokehjs_exec.v0+json": ""
     },
     "metadata": {
      "application/vnd.bokehjs_exec.v0+json": {
       "id": "p3864"
      }
     },
     "output_type": "display_data"
    }
   ],
   "source": [
    "df_ratings = ratings_country_df.copy()\n",
    "df_ratings[\"Date\"] = pd.to_datetime(df_ratings[\"Date\"])\n",
    "df_ratings = df_ratings.groupby(df_ratings[\"Country\"])[\"Total Average Rating\"].mean()\n",
    "# rename Total Average Rating to rating\n",
    "df_ratings = df_ratings.rename(\"rating\")\n",
    "\n",
    "# get the lat and lon for each country\n",
    "lat_long_country = pd.read_csv(\"./data/longlat.csv\")\n",
    "\n",
    "# Convert latitude and longitude to numeric, coercing errors to NaN\n",
    "lat_long_country[\"latitude\"] = pd.to_numeric(lat_long_country[\"latitude\"], errors='coerce')\n",
    "lat_long_country[\"longitude\"] = pd.to_numeric(lat_long_country[\"longitude\"], errors='coerce')\n",
    "\n",
    "# Drop rows with NaN values\n",
    "lat_long_country.dropna(subset=[\"latitude\", \"longitude\"], inplace=True)\n",
    "\n",
    "from pyproj import Proj, transform\n",
    "\n",
    "inProj = Proj(init='epsg:4326')\n",
    "outProj = Proj(init='epsg:3857')\n",
    "\n",
    "lat_long_country[\"longitude\"], lat_long_country[\"latitude\"] = transform(inProj, outProj, lat_long_country[\"longitude\"].values, lat_long_country[\"latitude\"].values)\n",
    "\n",
    "\n",
    "# merge the dataframes\n",
    "lat_long_country = pd.merge(lat_long_country, df_ratings, left_on=\"country\", right_index=True)\n",
    "lat_long_country[\"color\"] = (lat_long_country[\"rating\"] - lat_long_country[\"rating\"].min()) / (lat_long_country[\"rating\"].max() - lat_long_country[\"rating\"].min())\n",
    "lat_long_country[\"color\"] = (lat_long_country[\"color\"] * 255).astype(int)\n",
    "lat_long_country[\"color\"] = lat_long_country[\"color\"].apply(lambda x: (255 - x, x, 0))\n",
    "\n",
    "# amount of start from 0 to 5 using ⭐️ emoji\n",
    "lat_long_country[\"stars\"] = lat_long_country[\"rating\"].apply(lambda x: \"⭐️\" * int(round(x)))\n",
    "\n",
    "\n",
    "print(lat_long_country.head())\n",
    "\n",
    "from bokeh.models import ColumnDataSource, HoverTool, LabelSet\n",
    "from bokeh.plotting import figure, show\n",
    "\n",
    "# Create a ColumnDataSource from your DataFrame\n",
    "source = ColumnDataSource(lat_long_country)\n",
    "\n",
    "# Create the figure\n",
    "p = figure(x_range=(-4000000, 6000000), y_range=(-1000000, 7000000),\n",
    "           x_axis_type=\"mercator\", y_axis_type=\"mercator\", width=800, height=600)\n",
    "\n",
    "# Add the tile\n",
    "p.add_tile(\"CARTODBPOSITRON\")\n",
    "\n",
    "# Add circle markers with hover capability\n",
    "circles = p.circle(x='longitude', y='latitude', size=10, \n",
    "                  source=source, fill_color='color', \n",
    "                  fill_alpha=0.8, line_color='white')\n",
    "\n",
    "# Add HoverTool\n",
    "hover = HoverTool(tooltips=[\n",
    "    ('Country', '@country'),\n",
    "    ('Name', '@name'),\n",
    "    ('Rating', '@rating'),\n",
    "    ('Stars', '@stars')\n",
    "])\n",
    "\n",
    "labels = LabelSet(x='longitude', y='latitude', text='name', x_offset=5, y_offset=5, source=source, border_line_color='black', background_fill_color='white')\n",
    "\n",
    "p.add_layout(labels)\n",
    "p.add_tools(hover)\n",
    "\n",
    "# Show the plot\n",
    "show(p)"
   ]
  },
  {
   "cell_type": "code",
   "execution_count": null,
   "metadata": {},
   "outputs": [],
   "source": []
  }
 ],
 "metadata": {
  "kernelspec": {
   "display_name": ".venv",
   "language": "python",
   "name": "python3"
  },
  "language_info": {
   "codemirror_mode": {
    "name": "ipython",
    "version": 3
   },
   "file_extension": ".py",
   "mimetype": "text/x-python",
   "name": "python",
   "nbconvert_exporter": "python",
   "pygments_lexer": "ipython3",
   "version": "3.13.1"
  }
 },
 "nbformat": 4,
 "nbformat_minor": 2
}
